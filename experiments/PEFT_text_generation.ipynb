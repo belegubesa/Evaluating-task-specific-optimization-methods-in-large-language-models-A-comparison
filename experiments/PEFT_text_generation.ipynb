{
 "cells": [
  {
   "cell_type": "code",
   "execution_count": null,
   "metadata": {},
   "outputs": [],
   "source": [
    "#%pip install torch==2.1.0\n",
    "#%pip install transformers==4.31.0\n",
    "#%pip install sentence-transformers==2.2.2\n",
    "#%pip install pinecone-client==2.2.2\n",
    "#%pip install datasets==2.14.0\n",
    "#%pip install langchain==0.0.240\n",
    "#%pip install bitsandbytes==0.41.0\n",
    "#%pip install -q -U trl git+https://github.com/huggingface/peft.git\n",
    "#%pip install -U datasets\n",
    "#%pip install -U peft trl"
   ]
  },
  {
   "cell_type": "code",
   "execution_count": 2,
   "metadata": {},
   "outputs": [
    {
     "data": {
      "application/vnd.jupyter.widget-view+json": {
       "model_id": "fba90654d3ca418c927cc3dffbd56751",
       "version_major": 2,
       "version_minor": 0
      },
      "text/plain": [
       "Loading checkpoint shards:   0%|          | 0/2 [00:00<?, ?it/s]"
      ]
     },
     "metadata": {},
     "output_type": "display_data"
    },
    {
     "ename": "KeyboardInterrupt",
     "evalue": "",
     "output_type": "error",
     "traceback": [
      "\u001b[0;31m---------------------------------------------------------------------------\u001b[0m",
      "\u001b[0;31mKeyboardInterrupt\u001b[0m                         Traceback (most recent call last)",
      "\u001b[1;32m/root/PEFT_llama_papers.ipynb Cell 3\u001b[0m line \u001b[0;36m1\n\u001b[1;32m      <a href='vscode-notebook-cell://ssh-remote%2Bdeathstar/root/PEFT_llama_papers.ipynb#W2sdnNjb2RlLXJlbW90ZQ%3D%3D?line=3'>4</a>\u001b[0m model_name \u001b[39m=\u001b[39m \u001b[39m\"\u001b[39m\u001b[39mmeta-llama/Llama-2-7b-chat-hf\u001b[39m\u001b[39m\"\u001b[39m\n\u001b[1;32m      <a href='vscode-notebook-cell://ssh-remote%2Bdeathstar/root/PEFT_llama_papers.ipynb#W2sdnNjb2RlLXJlbW90ZQ%3D%3D?line=5'>6</a>\u001b[0m bnb_config \u001b[39m=\u001b[39m BitsAndBytesConfig(\n\u001b[1;32m      <a href='vscode-notebook-cell://ssh-remote%2Bdeathstar/root/PEFT_llama_papers.ipynb#W2sdnNjb2RlLXJlbW90ZQ%3D%3D?line=6'>7</a>\u001b[0m     load_in_4bit\u001b[39m=\u001b[39m\u001b[39mTrue\u001b[39;00m,\n\u001b[1;32m      <a href='vscode-notebook-cell://ssh-remote%2Bdeathstar/root/PEFT_llama_papers.ipynb#W2sdnNjb2RlLXJlbW90ZQ%3D%3D?line=7'>8</a>\u001b[0m     bnb_4bit_quant_type\u001b[39m=\u001b[39m\u001b[39m\"\u001b[39m\u001b[39mnf4\u001b[39m\u001b[39m\"\u001b[39m,\n\u001b[1;32m      <a href='vscode-notebook-cell://ssh-remote%2Bdeathstar/root/PEFT_llama_papers.ipynb#W2sdnNjb2RlLXJlbW90ZQ%3D%3D?line=8'>9</a>\u001b[0m     bnb_4bit_compute_dtype\u001b[39m=\u001b[39mtorch\u001b[39m.\u001b[39mfloat16,\n\u001b[1;32m     <a href='vscode-notebook-cell://ssh-remote%2Bdeathstar/root/PEFT_llama_papers.ipynb#W2sdnNjb2RlLXJlbW90ZQ%3D%3D?line=9'>10</a>\u001b[0m )\n\u001b[0;32m---> <a href='vscode-notebook-cell://ssh-remote%2Bdeathstar/root/PEFT_llama_papers.ipynb#W2sdnNjb2RlLXJlbW90ZQ%3D%3D?line=11'>12</a>\u001b[0m model \u001b[39m=\u001b[39m AutoModelForCausalLM\u001b[39m.\u001b[39;49mfrom_pretrained(\n\u001b[1;32m     <a href='vscode-notebook-cell://ssh-remote%2Bdeathstar/root/PEFT_llama_papers.ipynb#W2sdnNjb2RlLXJlbW90ZQ%3D%3D?line=12'>13</a>\u001b[0m     model_name,\n\u001b[1;32m     <a href='vscode-notebook-cell://ssh-remote%2Bdeathstar/root/PEFT_llama_papers.ipynb#W2sdnNjb2RlLXJlbW90ZQ%3D%3D?line=13'>14</a>\u001b[0m     quantization_config\u001b[39m=\u001b[39;49mbnb_config,\n\u001b[1;32m     <a href='vscode-notebook-cell://ssh-remote%2Bdeathstar/root/PEFT_llama_papers.ipynb#W2sdnNjb2RlLXJlbW90ZQ%3D%3D?line=14'>15</a>\u001b[0m     trust_remote_code\u001b[39m=\u001b[39;49m\u001b[39mTrue\u001b[39;49;00m\n\u001b[1;32m     <a href='vscode-notebook-cell://ssh-remote%2Bdeathstar/root/PEFT_llama_papers.ipynb#W2sdnNjb2RlLXJlbW90ZQ%3D%3D?line=15'>16</a>\u001b[0m )\n\u001b[1;32m     <a href='vscode-notebook-cell://ssh-remote%2Bdeathstar/root/PEFT_llama_papers.ipynb#W2sdnNjb2RlLXJlbW90ZQ%3D%3D?line=16'>17</a>\u001b[0m model\u001b[39m.\u001b[39mconfig\u001b[39m.\u001b[39muse_cache \u001b[39m=\u001b[39m \u001b[39mFalse\u001b[39;00m\n\u001b[1;32m     <a href='vscode-notebook-cell://ssh-remote%2Bdeathstar/root/PEFT_llama_papers.ipynb#W2sdnNjb2RlLXJlbW90ZQ%3D%3D?line=18'>19</a>\u001b[0m tokenizer \u001b[39m=\u001b[39m AutoTokenizer\u001b[39m.\u001b[39mfrom_pretrained(model_name, trust_remote_code\u001b[39m=\u001b[39m\u001b[39mTrue\u001b[39;00m)\n",
      "File \u001b[0;32m~/newpeft/lib/python3.9/site-packages/transformers/models/auto/auto_factory.py:566\u001b[0m, in \u001b[0;36m_BaseAutoModelClass.from_pretrained\u001b[0;34m(cls, pretrained_model_name_or_path, *model_args, **kwargs)\u001b[0m\n\u001b[1;32m    564\u001b[0m \u001b[39melif\u001b[39;00m \u001b[39mtype\u001b[39m(config) \u001b[39min\u001b[39;00m \u001b[39mcls\u001b[39m\u001b[39m.\u001b[39m_model_mapping\u001b[39m.\u001b[39mkeys():\n\u001b[1;32m    565\u001b[0m     model_class \u001b[39m=\u001b[39m _get_model_class(config, \u001b[39mcls\u001b[39m\u001b[39m.\u001b[39m_model_mapping)\n\u001b[0;32m--> 566\u001b[0m     \u001b[39mreturn\u001b[39;00m model_class\u001b[39m.\u001b[39;49mfrom_pretrained(\n\u001b[1;32m    567\u001b[0m         pretrained_model_name_or_path, \u001b[39m*\u001b[39;49mmodel_args, config\u001b[39m=\u001b[39;49mconfig, \u001b[39m*\u001b[39;49m\u001b[39m*\u001b[39;49mhub_kwargs, \u001b[39m*\u001b[39;49m\u001b[39m*\u001b[39;49mkwargs\n\u001b[1;32m    568\u001b[0m     )\n\u001b[1;32m    569\u001b[0m \u001b[39mraise\u001b[39;00m \u001b[39mValueError\u001b[39;00m(\n\u001b[1;32m    570\u001b[0m     \u001b[39mf\u001b[39m\u001b[39m\"\u001b[39m\u001b[39mUnrecognized configuration class \u001b[39m\u001b[39m{\u001b[39;00mconfig\u001b[39m.\u001b[39m\u001b[39m__class__\u001b[39m\u001b[39m}\u001b[39;00m\u001b[39m for this kind of AutoModel: \u001b[39m\u001b[39m{\u001b[39;00m\u001b[39mcls\u001b[39m\u001b[39m.\u001b[39m\u001b[39m__name__\u001b[39m\u001b[39m}\u001b[39;00m\u001b[39m.\u001b[39m\u001b[39m\\n\u001b[39;00m\u001b[39m\"\u001b[39m\n\u001b[1;32m    571\u001b[0m     \u001b[39mf\u001b[39m\u001b[39m\"\u001b[39m\u001b[39mModel type should be one of \u001b[39m\u001b[39m{\u001b[39;00m\u001b[39m'\u001b[39m\u001b[39m, \u001b[39m\u001b[39m'\u001b[39m\u001b[39m.\u001b[39mjoin(c\u001b[39m.\u001b[39m\u001b[39m__name__\u001b[39m\u001b[39m \u001b[39m\u001b[39mfor\u001b[39;00m\u001b[39m \u001b[39mc\u001b[39m \u001b[39m\u001b[39min\u001b[39;00m\u001b[39m \u001b[39m\u001b[39mcls\u001b[39m\u001b[39m.\u001b[39m_model_mapping\u001b[39m.\u001b[39mkeys())\u001b[39m}\u001b[39;00m\u001b[39m.\u001b[39m\u001b[39m\"\u001b[39m\n\u001b[1;32m    572\u001b[0m )\n",
      "File \u001b[0;32m~/newpeft/lib/python3.9/site-packages/transformers/modeling_utils.py:3850\u001b[0m, in \u001b[0;36mPreTrainedModel.from_pretrained\u001b[0;34m(cls, pretrained_model_name_or_path, config, cache_dir, ignore_mismatched_sizes, force_download, local_files_only, token, revision, use_safetensors, *model_args, **kwargs)\u001b[0m\n\u001b[1;32m   3841\u001b[0m     \u001b[39mif\u001b[39;00m dtype_orig \u001b[39mis\u001b[39;00m \u001b[39mnot\u001b[39;00m \u001b[39mNone\u001b[39;00m:\n\u001b[1;32m   3842\u001b[0m         torch\u001b[39m.\u001b[39mset_default_dtype(dtype_orig)\n\u001b[1;32m   3843\u001b[0m     (\n\u001b[1;32m   3844\u001b[0m         model,\n\u001b[1;32m   3845\u001b[0m         missing_keys,\n\u001b[1;32m   3846\u001b[0m         unexpected_keys,\n\u001b[1;32m   3847\u001b[0m         mismatched_keys,\n\u001b[1;32m   3848\u001b[0m         offload_index,\n\u001b[1;32m   3849\u001b[0m         error_msgs,\n\u001b[0;32m-> 3850\u001b[0m     ) \u001b[39m=\u001b[39m \u001b[39mcls\u001b[39;49m\u001b[39m.\u001b[39;49m_load_pretrained_model(\n\u001b[1;32m   3851\u001b[0m         model,\n\u001b[1;32m   3852\u001b[0m         state_dict,\n\u001b[1;32m   3853\u001b[0m         loaded_state_dict_keys,  \u001b[39m# XXX: rename?\u001b[39;49;00m\n\u001b[1;32m   3854\u001b[0m         resolved_archive_file,\n\u001b[1;32m   3855\u001b[0m         pretrained_model_name_or_path,\n\u001b[1;32m   3856\u001b[0m         ignore_mismatched_sizes\u001b[39m=\u001b[39;49mignore_mismatched_sizes,\n\u001b[1;32m   3857\u001b[0m         sharded_metadata\u001b[39m=\u001b[39;49msharded_metadata,\n\u001b[1;32m   3858\u001b[0m         _fast_init\u001b[39m=\u001b[39;49m_fast_init,\n\u001b[1;32m   3859\u001b[0m         low_cpu_mem_usage\u001b[39m=\u001b[39;49mlow_cpu_mem_usage,\n\u001b[1;32m   3860\u001b[0m         device_map\u001b[39m=\u001b[39;49mdevice_map,\n\u001b[1;32m   3861\u001b[0m         offload_folder\u001b[39m=\u001b[39;49moffload_folder,\n\u001b[1;32m   3862\u001b[0m         offload_state_dict\u001b[39m=\u001b[39;49moffload_state_dict,\n\u001b[1;32m   3863\u001b[0m         dtype\u001b[39m=\u001b[39;49mtorch_dtype,\n\u001b[1;32m   3864\u001b[0m         is_quantized\u001b[39m=\u001b[39;49m(\u001b[39mgetattr\u001b[39;49m(model, \u001b[39m\"\u001b[39;49m\u001b[39mquantization_method\u001b[39;49m\u001b[39m\"\u001b[39;49m, \u001b[39mNone\u001b[39;49;00m) \u001b[39m==\u001b[39;49m QuantizationMethod\u001b[39m.\u001b[39;49mBITS_AND_BYTES),\n\u001b[1;32m   3865\u001b[0m         keep_in_fp32_modules\u001b[39m=\u001b[39;49mkeep_in_fp32_modules,\n\u001b[1;32m   3866\u001b[0m     )\n\u001b[1;32m   3868\u001b[0m model\u001b[39m.\u001b[39mis_loaded_in_4bit \u001b[39m=\u001b[39m load_in_4bit\n\u001b[1;32m   3869\u001b[0m model\u001b[39m.\u001b[39mis_loaded_in_8bit \u001b[39m=\u001b[39m load_in_8bit\n",
      "File \u001b[0;32m~/newpeft/lib/python3.9/site-packages/transformers/modeling_utils.py:4284\u001b[0m, in \u001b[0;36mPreTrainedModel._load_pretrained_model\u001b[0;34m(cls, model, state_dict, loaded_keys, resolved_archive_file, pretrained_model_name_or_path, ignore_mismatched_sizes, sharded_metadata, _fast_init, low_cpu_mem_usage, device_map, offload_folder, offload_state_dict, dtype, is_quantized, keep_in_fp32_modules)\u001b[0m\n\u001b[1;32m   4280\u001b[0m                     set_module_quantized_tensor_to_device(\n\u001b[1;32m   4281\u001b[0m                         model_to_load, key, \u001b[39m\"\u001b[39m\u001b[39mcpu\u001b[39m\u001b[39m\"\u001b[39m, torch\u001b[39m.\u001b[39mempty(\u001b[39m*\u001b[39mparam\u001b[39m.\u001b[39msize(), dtype\u001b[39m=\u001b[39mdtype)\n\u001b[1;32m   4282\u001b[0m                     )\n\u001b[1;32m   4283\u001b[0m     \u001b[39melse\u001b[39;00m:\n\u001b[0;32m-> 4284\u001b[0m         new_error_msgs, offload_index, state_dict_index \u001b[39m=\u001b[39m _load_state_dict_into_meta_model(\n\u001b[1;32m   4285\u001b[0m             model_to_load,\n\u001b[1;32m   4286\u001b[0m             state_dict,\n\u001b[1;32m   4287\u001b[0m             loaded_keys,\n\u001b[1;32m   4288\u001b[0m             start_prefix,\n\u001b[1;32m   4289\u001b[0m             expected_keys,\n\u001b[1;32m   4290\u001b[0m             device_map\u001b[39m=\u001b[39;49mdevice_map,\n\u001b[1;32m   4291\u001b[0m             offload_folder\u001b[39m=\u001b[39;49moffload_folder,\n\u001b[1;32m   4292\u001b[0m             offload_index\u001b[39m=\u001b[39;49moffload_index,\n\u001b[1;32m   4293\u001b[0m             state_dict_folder\u001b[39m=\u001b[39;49mstate_dict_folder,\n\u001b[1;32m   4294\u001b[0m             state_dict_index\u001b[39m=\u001b[39;49mstate_dict_index,\n\u001b[1;32m   4295\u001b[0m             dtype\u001b[39m=\u001b[39;49mdtype,\n\u001b[1;32m   4296\u001b[0m             is_quantized\u001b[39m=\u001b[39;49mis_quantized,\n\u001b[1;32m   4297\u001b[0m             is_safetensors\u001b[39m=\u001b[39;49mis_safetensors,\n\u001b[1;32m   4298\u001b[0m             keep_in_fp32_modules\u001b[39m=\u001b[39;49mkeep_in_fp32_modules,\n\u001b[1;32m   4299\u001b[0m             unexpected_keys\u001b[39m=\u001b[39;49munexpected_keys,\n\u001b[1;32m   4300\u001b[0m         )\n\u001b[1;32m   4301\u001b[0m         error_msgs \u001b[39m+\u001b[39m\u001b[39m=\u001b[39m new_error_msgs\n\u001b[1;32m   4302\u001b[0m \u001b[39melse\u001b[39;00m:\n",
      "File \u001b[0;32m~/newpeft/lib/python3.9/site-packages/transformers/modeling_utils.py:839\u001b[0m, in \u001b[0;36m_load_state_dict_into_meta_model\u001b[0;34m(model, state_dict, loaded_state_dict_keys, start_prefix, expected_keys, device_map, offload_folder, offload_index, state_dict_folder, state_dict_index, dtype, is_quantized, is_safetensors, keep_in_fp32_modules, unexpected_keys)\u001b[0m\n\u001b[1;32m    830\u001b[0m             set_module_quantized_tensor_to_device(\n\u001b[1;32m    831\u001b[0m                 model,\n\u001b[1;32m    832\u001b[0m                 param_name,\n\u001b[0;32m   (...)\u001b[0m\n\u001b[1;32m    835\u001b[0m                 quantized_stats\u001b[39m=\u001b[39m{\u001b[39m\"\u001b[39m\u001b[39mSCB\u001b[39m\u001b[39m\"\u001b[39m: state_dict[fp16_statistics_key]},\n\u001b[1;32m    836\u001b[0m             )\n\u001b[1;32m    837\u001b[0m     \u001b[39melse\u001b[39;00m:\n\u001b[1;32m    838\u001b[0m         \u001b[39m# loading not quantized params in quantized model\u001b[39;00m\n\u001b[0;32m--> 839\u001b[0m         set_module_quantized_tensor_to_device(model, param_name, param_device, value\u001b[39m=\u001b[39;49mparam)\n\u001b[1;32m    841\u001b[0m \u001b[39mreturn\u001b[39;00m error_msgs, offload_index, state_dict_index\n",
      "File \u001b[0;32m~/newpeft/lib/python3.9/site-packages/transformers/integrations/bitsandbytes.py:121\u001b[0m, in \u001b[0;36mset_module_quantized_tensor_to_device\u001b[0;34m(module, tensor_name, device, value, quantized_stats)\u001b[0m\n\u001b[1;32m    113\u001b[0m                 new_value \u001b[39m=\u001b[39m bnb\u001b[39m.\u001b[39mnn\u001b[39m.\u001b[39mParams4bit\u001b[39m.\u001b[39mfrom_prequantized(\n\u001b[1;32m    114\u001b[0m                     data\u001b[39m=\u001b[39mnew_value,\n\u001b[1;32m    115\u001b[0m                     quantized_stats\u001b[39m=\u001b[39mquantized_stats,\n\u001b[0;32m   (...)\u001b[0m\n\u001b[1;32m    118\u001b[0m                     \u001b[39m*\u001b[39m\u001b[39m*\u001b[39mkwargs,\n\u001b[1;32m    119\u001b[0m                 )\n\u001b[1;32m    120\u001b[0m             \u001b[39melse\u001b[39;00m:\n\u001b[0;32m--> 121\u001b[0m                 new_value \u001b[39m=\u001b[39m bnb\u001b[39m.\u001b[39;49mnn\u001b[39m.\u001b[39;49mParams4bit(new_value, requires_grad\u001b[39m=\u001b[39;49m\u001b[39mFalse\u001b[39;49;00m, \u001b[39m*\u001b[39;49m\u001b[39m*\u001b[39;49mkwargs)\u001b[39m.\u001b[39;49mto(device)\n\u001b[1;32m    122\u001b[0m         module\u001b[39m.\u001b[39m_parameters[tensor_name] \u001b[39m=\u001b[39m new_value\n\u001b[1;32m    124\u001b[0m \u001b[39melse\u001b[39;00m:\n",
      "File \u001b[0;32m~/newpeft/lib/python3.9/site-packages/bitsandbytes/nn/modules.py:179\u001b[0m, in \u001b[0;36mParams4bit.to\u001b[0;34m(self, *args, **kwargs)\u001b[0m\n\u001b[1;32m    176\u001b[0m device, dtype, non_blocking, convert_to_format \u001b[39m=\u001b[39m torch\u001b[39m.\u001b[39m_C\u001b[39m.\u001b[39m_nn\u001b[39m.\u001b[39m_parse_to(\u001b[39m*\u001b[39margs, \u001b[39m*\u001b[39m\u001b[39m*\u001b[39mkwargs)\n\u001b[1;32m    178\u001b[0m \u001b[39mif\u001b[39;00m (device \u001b[39mis\u001b[39;00m \u001b[39mnot\u001b[39;00m \u001b[39mNone\u001b[39;00m \u001b[39mand\u001b[39;00m device\u001b[39m.\u001b[39mtype \u001b[39m==\u001b[39m \u001b[39m\"\u001b[39m\u001b[39mcuda\u001b[39m\u001b[39m\"\u001b[39m \u001b[39mand\u001b[39;00m \u001b[39mself\u001b[39m\u001b[39m.\u001b[39mdata\u001b[39m.\u001b[39mdevice\u001b[39m.\u001b[39mtype \u001b[39m==\u001b[39m \u001b[39m\"\u001b[39m\u001b[39mcpu\u001b[39m\u001b[39m\"\u001b[39m):\n\u001b[0;32m--> 179\u001b[0m     \u001b[39mreturn\u001b[39;00m \u001b[39mself\u001b[39;49m\u001b[39m.\u001b[39;49mcuda(device)\n\u001b[1;32m    180\u001b[0m \u001b[39melse\u001b[39;00m:\n\u001b[1;32m    181\u001b[0m     s \u001b[39m=\u001b[39m \u001b[39mself\u001b[39m\u001b[39m.\u001b[39mquant_state\n",
      "File \u001b[0;32m~/newpeft/lib/python3.9/site-packages/bitsandbytes/nn/modules.py:156\u001b[0m, in \u001b[0;36mParams4bit.cuda\u001b[0;34m(self, device)\u001b[0m\n\u001b[1;32m    155\u001b[0m \u001b[39mdef\u001b[39;00m \u001b[39mcuda\u001b[39m(\u001b[39mself\u001b[39m, device):\n\u001b[0;32m--> 156\u001b[0m     w \u001b[39m=\u001b[39m \u001b[39mself\u001b[39;49m\u001b[39m.\u001b[39;49mdata\u001b[39m.\u001b[39;49mcontiguous()\u001b[39m.\u001b[39;49mhalf()\u001b[39m.\u001b[39;49mcuda(device)\n\u001b[1;32m    157\u001b[0m     w_4bit, quant_state \u001b[39m=\u001b[39m bnb\u001b[39m.\u001b[39mfunctional\u001b[39m.\u001b[39mquantize_4bit(w, blocksize\u001b[39m=\u001b[39m\u001b[39mself\u001b[39m\u001b[39m.\u001b[39mblocksize, compress_statistics\u001b[39m=\u001b[39m\u001b[39mself\u001b[39m\u001b[39m.\u001b[39mcompress_statistics, quant_type\u001b[39m=\u001b[39m\u001b[39mself\u001b[39m\u001b[39m.\u001b[39mquant_type)\n\u001b[1;32m    158\u001b[0m     \u001b[39mself\u001b[39m\u001b[39m.\u001b[39mdata \u001b[39m=\u001b[39m w_4bit\n",
      "\u001b[0;31mKeyboardInterrupt\u001b[0m: "
     ]
    }
   ],
   "source": [
    "import torch\n",
    "from transformers import AutoModelForCausalLM, AutoTokenizer, BitsAndBytesConfig, AutoTokenizer\n",
    "\n",
    "model_name = \"meta-llama/Llama-2-7b-chat-hf\"\n",
    "\n",
    "bnb_config = BitsAndBytesConfig(\n",
    "    load_in_4bit=True,\n",
    "    bnb_4bit_quant_type=\"nf4\",\n",
    "    bnb_4bit_compute_dtype=torch.float16,\n",
    ")\n",
    "\n",
    "model = AutoModelForCausalLM.from_pretrained(\n",
    "    model_name,\n",
    "    quantization_config=bnb_config,\n",
    "    trust_remote_code=True\n",
    ")\n",
    "model.config.use_cache = False\n",
    "\n",
    "tokenizer = AutoTokenizer.from_pretrained(model_name, trust_remote_code=True)\n",
    "tokenizer.pad_token = tokenizer.eos_token\n",
    "tokenizer.padding_side = \"right\"  "
   ]
  },
  {
   "cell_type": "code",
   "execution_count": 44,
   "metadata": {},
   "outputs": [],
   "source": [
    "from datasets import load_dataset\n",
    "\n",
    "whole_dataset = load_dataset('json', data_files='/root/llama/datasets/preprocessed_dataset.json')"
   ]
  },
  {
   "cell_type": "code",
   "execution_count": 45,
   "metadata": {},
   "outputs": [
    {
     "name": "stdout",
     "output_type": "stream",
     "text": [
      "{'summary': ['we propose an architecture for vqa which utilizes recurrent layers to generate visual and textual attention the memory characteristic of the proposed recurrent attention units offers a rich joint embedding of visual and textual features and enables the model to reason relations between several parts of the image and question our single model outperforms the first place winner on the vqa 10 dataset performs within margin to the current stateoftheart ensemble model we also experiment with replacing attention mechanisms in other stateoftheart models with our implementation and show increased accuracy in both cases our recurrent attention mechanism improves performance in tasks requiring sequential or relational reasoning on the vqa dataset', 'recent approaches based on artificial neural networks anns have shown promising results for shorttext classification however many short texts occur in sequences eg sentences in a document or utterances in a dialog and most existing annbased systems do not leverage the preceding short texts when classifying a subsequent one in this work we present a model based on recurrent neural networks and convolutional neural networks that incorporates the preceding short texts our model achieves stateoftheart results on three different datasets for dialog act prediction'], 'title': ['dual recurrent attention units for visual question answering', 'sequential shorttext classification with recurrent and convolutional   neural networks']}\n"
     ]
    }
   ],
   "source": [
    "\n",
    "from datasets import load_dataset\n",
    "# Cleaning function definition\n",
    "def clean_text(example):\n",
    "    # Replace newline characters with space\n",
    "    example['title'] = example['title'].replace('\\n', ' ')\n",
    "    example['summary'] = example['summary'].replace('\\n', ' ')\n",
    "    # Replace apostrophes with empty string\n",
    "    example['title'] = example['title'].replace('\\'', '')\n",
    "    example['summary'] = example['summary'].replace('\\'', '')\n",
    "    return example\n",
    "\n",
    "# Application of the cleaning function\n",
    "cleaned_dataset = whole_dataset['train'].map(clean_text)\n",
    "print(cleaned_dataset[0:2])"
   ]
  },
  {
   "cell_type": "code",
   "execution_count": 60,
   "metadata": {},
   "outputs": [],
   "source": [
    "from datasets import DatasetDict\n",
    "# First split\n",
    "train_test_split = cleaned_dataset.train_test_split(test_size=0.20)\n",
    "train1_dataset = train_test_split['train']\n",
    "remaining1_dataset = train_test_split['test']\n",
    "\n",
    "# Second split\n",
    "eval_test_split = remaining1_dataset.train_test_split(test_size=0.5)\n",
    "eval1_dataset = eval_test_split['train']\n",
    "test1_dataset = eval_test_split['test']\n",
    "\n",
    "# Combine datasets into a DatasetDict\n",
    "split_datasets = DatasetDict({\n",
    "    'train': train1_dataset,\n",
    "    'validation': eval1_dataset,\n",
    "    'test': test1_dataset\n",
    "})"
   ]
  },
  {
   "cell_type": "code",
   "execution_count": 66,
   "metadata": {},
   "outputs": [
    {
     "data": {
      "application/vnd.jupyter.widget-view+json": {
       "model_id": "babdcb1447154093aee7a1dcd0687a79",
       "version_major": 2,
       "version_minor": 0
      },
      "text/plain": [
       "Map:   0%|          | 0/32800 [00:00<?, ? examples/s]"
      ]
     },
     "metadata": {},
     "output_type": "display_data"
    },
    {
     "data": {
      "application/vnd.jupyter.widget-view+json": {
       "model_id": "510b7d96ec594a22be5c1d8218124a30",
       "version_major": 2,
       "version_minor": 0
      },
      "text/plain": [
       "Map:   0%|          | 0/4100 [00:00<?, ? examples/s]"
      ]
     },
     "metadata": {},
     "output_type": "display_data"
    },
    {
     "data": {
      "application/vnd.jupyter.widget-view+json": {
       "model_id": "1e7f154108ac4fdbb22c06e25b5f69b7",
       "version_major": 2,
       "version_minor": 0
      },
      "text/plain": [
       "Map:   0%|          | 0/4100 [00:00<?, ? examples/s]"
      ]
     },
     "metadata": {},
     "output_type": "display_data"
    }
   ],
   "source": [
    "def clean_text(text):\n",
    "    # Remove '<s>' token\n",
    "    text = text.replace('<s>', '')\n",
    "    # Replace double spaces with single spaces\n",
    "    while \"  \" in text:\n",
    "        text = text.replace(\"  \", \" \")\n",
    "    return text.strip()  # Strip leading and trailing whitespace\n",
    "\n",
    "final_train1_dataset = train1_dataset.map(lambda item: {'title': clean_text(item['title']),\n",
    "                                                                    'summary': clean_text(item['summary'])})\n",
    "final_eval1_dataset = eval1_dataset.map(lambda item: {'title': clean_text(item['title']),\n",
    "                                                                  'summary': clean_text(item['summary'])})\n",
    "final_test1_dataset = test1_dataset.map(lambda item: {'title': clean_text(item['title']),\n",
    "                                                                  'summary': clean_text(item['summary'])})"
   ]
  },
  {
   "cell_type": "code",
   "execution_count": 27,
   "metadata": {},
   "outputs": [],
   "source": [
    "from datasets import load_dataset\n",
    "\n",
    "# Load the processed and segmented dataset from the saved JSON file\n",
    "dataset = load_dataset('json', data_files='/root/llama/datasets/small_segmented_subset_papers.json', split='train')"
   ]
  },
  {
   "cell_type": "code",
   "execution_count": 28,
   "metadata": {},
   "outputs": [],
   "source": [
    "from datasets import DatasetDict\n",
    "# First split\n",
    "train_test_split = dataset.train_test_split(test_size=0.5)\n",
    "train_dataset = train_test_split['train']\n",
    "remaining_dataset = train_test_split['test']\n",
    "\n",
    "# Second split\n",
    "eval_test_split = remaining_dataset.train_test_split(test_size=0.5)\n",
    "eval_dataset = eval_test_split['train']\n",
    "test_dataset = eval_test_split['test']\n",
    "\n",
    "# Combine datasets into a DatasetDict\n",
    "split_datasets = DatasetDict({\n",
    "    'train': train_dataset,\n",
    "    'validation': eval_dataset,\n",
    "    'test': test_dataset\n",
    "})"
   ]
  },
  {
   "cell_type": "code",
   "execution_count": null,
   "metadata": {},
   "outputs": [],
   "source": [
    "def sliding_window_summary(example, tokenizer, max_length, overlap):\n",
    "    tokens = tokenizer.encode(example['summary'], add_special_tokens=True)\n",
    "    total_tokens = len(tokens)\n",
    "    start = 0\n",
    "    segments = []\n",
    "\n",
    "    while start < total_tokens:\n",
    "        end = start + max_length\n",
    "        segment = tokens[start:end]\n",
    "        segments.append(tokenizer.decode(segment))\n",
    "        start = end - overlap\n",
    "\n",
    "    return segments"
   ]
  },
  {
   "cell_type": "code",
   "execution_count": null,
   "metadata": {},
   "outputs": [],
   "source": [
    "#this was done once, when creating the segmented dataset, once we create the dataset, this step should be skipped\n",
    "\n",
    "def create_segmented_dataset(dataset, tokenizer, max_length, overlap):\n",
    "    segmented_dataset = []\n",
    "\n",
    "    for item in dataset:\n",
    "        summary_segments = sliding_window_summary(item, tokenizer, max_length, overlap)\n",
    "        for segment in summary_segments:\n",
    "            new_item = {'title': item['title'], 'summary_segment': segment}\n",
    "            segmented_dataset.append(new_item)\n",
    "\n",
    "    return segmented_dataset\n",
    "\n",
    "max_seq_length=200\n",
    "overlap=20\n",
    "\n",
    "# Apply it to the train, test, and eval datasets\n",
    "segmented_train_dataset = create_segmented_dataset(train_dataset, tokenizer, max_seq_length, overlap)\n",
    "segmented_test_dataset = create_segmented_dataset(test_dataset, tokenizer, max_seq_length, overlap)\n",
    "segmented_eval_dataset = create_segmented_dataset(eval_dataset, tokenizer, max_seq_length, overlap)\n"
   ]
  },
  {
   "cell_type": "code",
   "execution_count": null,
   "metadata": {},
   "outputs": [],
   "source": [
    "from datasets import Dataset\n",
    "import pandas as pd\n",
    "\n",
    "segmented_train_dataset = Dataset.from_pandas(pd.DataFrame(segmented_train_dataset))\n",
    "segmented_test_dataset = Dataset.from_pandas(pd.DataFrame(segmented_test_dataset))\n",
    "segmented_eval_dataset = Dataset.from_pandas(pd.DataFrame(segmented_eval_dataset))"
   ]
  },
  {
   "cell_type": "code",
   "execution_count": null,
   "metadata": {},
   "outputs": [],
   "source": [
    "def clean_text(text):\n",
    "    # Remove '<s>' token\n",
    "    text = text.replace('<s>', '')\n",
    "    # Replace double spaces with single spaces\n",
    "    while \"  \" in text:\n",
    "        text = text.replace(\"  \", \" \")\n",
    "    return text.strip()  # Strip leading and trailing whitespace\n",
    "\n",
    "segmented_train_dataset = segmented_train_dataset.map(lambda item: {'title': clean_text(item['title']),\n",
    "                                                                    'summary_segment': clean_text(item['summary_segment'])})\n",
    "segmented_eval_dataset = segmented_eval_dataset.map(lambda item: {'title': clean_text(item['title']),\n",
    "                                                                  'summary_segment': clean_text(item['summary_segment'])})\n",
    "segmented_test_dataset = segmented_test_dataset.map(lambda item: {'title': clean_text(item['title']),\n",
    "                                                                  'summary_segment': clean_text(item['summary_segment'])})\n"
   ]
  },
  {
   "cell_type": "code",
   "execution_count": null,
   "metadata": {},
   "outputs": [],
   "source": [
    "#this cell is a demonstration of how we saved the processed and segmented dataset, should be skipped\n",
    "import pandas as pd\n",
    "#Convert the dataset to a pandas DataFrame\n",
    "train_df = pd.DataFrame(segmented_train_dataset)\n",
    "# Saving the DataFrame to a JSON file\n",
    "train_df.to_json('/root/llama/datasets/small_segmented_subset_papers.json', orient='records', lines=True)"
   ]
  },
  {
   "cell_type": "code",
   "execution_count": 30,
   "metadata": {},
   "outputs": [],
   "source": [
    "from peft import LoraConfig, get_peft_model\n",
    "\n",
    "peft_parameters = LoraConfig(\n",
    "    lora_alpha=16,\n",
    "    lora_dropout=0.1,\n",
    "    r=8,\n",
    "    bias=\"none\",\n",
    "    task_type=\"CAUSAL_LM\"\n",
    ")"
   ]
  },
  {
   "cell_type": "code",
   "execution_count": 31,
   "metadata": {},
   "outputs": [
    {
     "name": "stderr",
     "output_type": "stream",
     "text": [
      "Using the `WANDB_DISABLED` environment variable is deprecated and will be removed in v5. Use the --report_to flag to control the integrations used for logging result (for instance --report_to none).\n"
     ]
    }
   ],
   "source": [
    "from transformers import TrainingArguments\n",
    "\n",
    "output_dir = \"./results\"\n",
    "per_device_train_batch_size = 4\n",
    "gradient_accumulation_steps = 4\n",
    "optim = \"paged_adamw_32bit\"\n",
    "save_steps = 100\n",
    "logging_steps = 50\n",
    "learning_rate = 2e-4\n",
    "max_grad_norm = 0.4\n",
    "#max_steps = 100\n",
    "warmup_ratio = 0.03\n",
    "lr_scheduler_type = \"constant\"\n",
    "\n",
    "training_arguments = TrainingArguments(\n",
    "    output_dir=output_dir,\n",
    "    num_train_epochs=10,\n",
    "    per_device_train_batch_size=per_device_train_batch_size,\n",
    "    gradient_accumulation_steps=gradient_accumulation_steps,\n",
    "    optim=optim,\n",
    "    evaluation_strategy=\"steps\", \n",
    "    eval_steps=100,\n",
    "    load_best_model_at_end=True,\n",
    "    save_steps=save_steps,\n",
    "    logging_steps=logging_steps,\n",
    "    learning_rate=learning_rate,\n",
    "    fp16=True,\n",
    "    max_grad_norm=max_grad_norm,\n",
    "    #max_steps=max_steps,\n",
    "    warmup_ratio=warmup_ratio,\n",
    "    group_by_length=True,\n",
    "    lr_scheduler_type=lr_scheduler_type,\n",
    ")"
   ]
  },
  {
   "cell_type": "code",
   "execution_count": 32,
   "metadata": {},
   "outputs": [
    {
     "data": {
      "application/vnd.jupyter.widget-view+json": {
       "model_id": "44f63dc3e6124ecfa075e18798a16d28",
       "version_major": 2,
       "version_minor": 0
      },
      "text/plain": [
       "Map:   0%|          | 0/778 [00:00<?, ? examples/s]"
      ]
     },
     "metadata": {},
     "output_type": "display_data"
    },
    {
     "data": {
      "application/vnd.jupyter.widget-view+json": {
       "model_id": "c7b73e32d7be46c4af05f5c9c24b451c",
       "version_major": 2,
       "version_minor": 0
      },
      "text/plain": [
       "Map:   0%|          | 0/389 [00:00<?, ? examples/s]"
      ]
     },
     "metadata": {},
     "output_type": "display_data"
    }
   ],
   "source": [
    "from trl import SFTTrainer\n",
    "\n",
    "max_seq_length = 400\n",
    "\n",
    "trainer = SFTTrainer(\n",
    "    model=model,\n",
    "    train_dataset=train_dataset, \n",
    "    eval_dataset=eval_dataset,\n",
    "    peft_config=peft_parameters,\n",
    "    dataset_text_field=\"summary_segment\",  \n",
    "    max_seq_length=max_seq_length,\n",
    "    tokenizer=tokenizer,\n",
    "    args=training_arguments,\n",
    ")"
   ]
  },
  {
   "cell_type": "code",
   "execution_count": 33,
   "metadata": {},
   "outputs": [],
   "source": [
    "for name, module in trainer.model.named_modules():\n",
    "    if \"norm\" in name:\n",
    "        module = module.to(torch.float32)"
   ]
  },
  {
   "cell_type": "code",
   "execution_count": 34,
   "metadata": {},
   "outputs": [],
   "source": [
    "use_wandb = False\n",
    "import os\n",
    "os.environ[\"WANDB_DISABLED\"] = \"true\""
   ]
  },
  {
   "cell_type": "code",
   "execution_count": 35,
   "metadata": {},
   "outputs": [
    {
     "name": "stderr",
     "output_type": "stream",
     "text": [
      "You're using a LlamaTokenizerFast tokenizer. Please note that with a fast tokenizer, using the `__call__` method is faster than using a method to encode the text followed by a call to the `pad` method to get a padded encoding.\n"
     ]
    },
    {
     "data": {
      "text/html": [
       "\n",
       "    <div>\n",
       "      \n",
       "      <progress value='480' max='480' style='width:300px; height:20px; vertical-align: middle;'></progress>\n",
       "      [480/480 12:21, Epoch 9/10]\n",
       "    </div>\n",
       "    <table border=\"1\" class=\"dataframe\">\n",
       "  <thead>\n",
       " <tr style=\"text-align: left;\">\n",
       "      <th>Step</th>\n",
       "      <th>Training Loss</th>\n",
       "      <th>Validation Loss</th>\n",
       "    </tr>\n",
       "  </thead>\n",
       "  <tbody>\n",
       "    <tr>\n",
       "      <td>100</td>\n",
       "      <td>3.095800</td>\n",
       "      <td>2.869321</td>\n",
       "    </tr>\n",
       "    <tr>\n",
       "      <td>200</td>\n",
       "      <td>2.823200</td>\n",
       "      <td>2.899711</td>\n",
       "    </tr>\n",
       "    <tr>\n",
       "      <td>300</td>\n",
       "      <td>2.536800</td>\n",
       "      <td>3.012022</td>\n",
       "    </tr>\n",
       "    <tr>\n",
       "      <td>400</td>\n",
       "      <td>2.239200</td>\n",
       "      <td>3.190259</td>\n",
       "    </tr>\n",
       "  </tbody>\n",
       "</table><p>"
      ],
      "text/plain": [
       "<IPython.core.display.HTML object>"
      ]
     },
     "metadata": {},
     "output_type": "display_data"
    },
    {
     "data": {
      "text/plain": [
       "TrainOutput(global_step=480, training_loss=2.648106098175049, metrics={'train_runtime': 744.604, 'train_samples_per_second': 10.449, 'train_steps_per_second': 0.645, 'total_flos': 2.0005968033202176e+16, 'train_loss': 2.648106098175049, 'epoch': 9.85})"
      ]
     },
     "execution_count": 35,
     "metadata": {},
     "output_type": "execute_result"
    }
   ],
   "source": [
    "trainer.train()"
   ]
  },
  {
   "cell_type": "code",
   "execution_count": 36,
   "metadata": {},
   "outputs": [],
   "source": [
    "model_to_save = trainer.model.module if hasattr(trainer.model, 'module') else trainer.model  # Take care of distributed/parallel training\n",
    "model_to_save.save_pretrained(\"outputs\")\n"
   ]
  },
  {
   "cell_type": "code",
   "execution_count": 37,
   "metadata": {},
   "outputs": [],
   "source": [
    "lora_config = LoraConfig.from_pretrained('outputs')\n",
    "model = get_peft_model(model, lora_config)"
   ]
  },
  {
   "cell_type": "code",
   "execution_count": null,
   "metadata": {},
   "outputs": [],
   "source": [
    "\n",
    "text = \"What is the Big Bang theory? ### Assistant:\"\n",
    "inputs = tokenizer(text, return_tensors=\"pt\")\n",
    "outputs = model.generate(**inputs, max_new_tokens=400)\n",
    "print(tokenizer.decode(outputs[0], skip_special_tokens=True))"
   ]
  },
  {
   "cell_type": "code",
   "execution_count": 39,
   "metadata": {},
   "outputs": [
    {
     "name": "stderr",
     "output_type": "stream",
     "text": [
      "/root/newpeft/lib/python3.9/site-packages/transformers/generation/utils.py:1468: UserWarning: You are calling .generate() with the `input_ids` being on a device type different than your model's device. `input_ids` is on cpu, whereas the model is on cuda. You may experience unexpected behaviors or slower generation. Please make sure that you have put `input_ids` to the correct device by calling for example input_ids = input_ids.to('cuda') before running `.generate()`.\n",
      "  warnings.warn(\n"
     ]
    }
   ],
   "source": [
    "import re\n",
    "\n",
    "def condense_summary(summary):\n",
    "    # Remove headings and numbers\n",
    "    summary = re.sub(r'(\\n### .+\\n)|(\\d+\\.\\s)', '', summary)\n",
    "\n",
    "    # Split into sentences\n",
    "    sentences = re.split(r'\\.\\s+', summary)\n",
    "\n",
    "    # Remove duplicate sentences\n",
    "    seen = set()\n",
    "    unique_sentences = []\n",
    "    for sentence in sentences:\n",
    "        if sentence not in seen:\n",
    "            unique_sentences.append(sentence)\n",
    "            seen.add(sentence)\n",
    "\n",
    "    # Join sentences into a paragraph\n",
    "    condensed_summary = '. '.join(unique_sentences)\n",
    "\n",
    "    return condensed_summary.strip()\n",
    "\n",
    "num_titles_to_generate = 10  # Set the number of titles you want to generate summaries for\n",
    "\n",
    "prompts = []\n",
    "for index, data in enumerate(train_dataset):\n",
    "    if index >= num_titles_to_generate:\n",
    "        break  \n",
    "    title = data['title']\n",
    "    prompt = f\"The following title is from a research paper in the fields of Machine Learning (ML), Artificial Intelligence (AI) and related subfields. Please provide a concise summary in an academic style that covers the main points and conclusions for the paper titled '{title}'. Directly start with the summary.\"\n",
    "    prompts.append(prompt)\n",
    "\n",
    "# Assuming you have a list 'actual_summaries' corresponding to these titles\n",
    "model_outputs = []\n",
    "for prompt in prompts:\n",
    "    inputs = tokenizer(prompt, return_tensors=\"pt\")\n",
    "    outputs = model.generate(**inputs, max_new_tokens=400)\n",
    "    generated_text = tokenizer.decode(outputs[0], skip_special_tokens=True)\n",
    "\n",
    "    # Post-processing to remove the echoed prompt\n",
    "    if generated_text.startswith(prompt):\n",
    "        generated_text = generated_text[len(prompt):].strip()\n",
    "\n",
    "    # Condense the generated text\n",
    "    condensed_text = condense_summary(generated_text)\n",
    "\n",
    "    model_outputs.append(condensed_text)\n"
   ]
  },
  {
   "cell_type": "code",
   "execution_count": 67,
   "metadata": {},
   "outputs": [
    {
     "name": "stderr",
     "output_type": "stream",
     "text": [
      "/root/newpeft/lib/python3.9/site-packages/transformers/generation/utils.py:1468: UserWarning: You are calling .generate() with the `input_ids` being on a device type different than your model's device. `input_ids` is on cpu, whereas the model is on cuda. You may experience unexpected behaviors or slower generation. Please make sure that you have put `input_ids` to the correct device by calling for example input_ids = input_ids.to('cuda') before running `.generate()`.\n",
      "  warnings.warn(\n"
     ]
    }
   ],
   "source": [
    "# Here we created a title-to-summary mapping from the dataset with whole summaries, which we'll use for evaluation later\n",
    "title_to_summary_mapping = {data['title']: data['summary'] for data in final_train1_dataset}\n",
    "\n",
    "# Now we generate summaries based on titles from segmented dataset\n",
    "generated_summaries = []\n",
    "actual_summaries = []\n",
    "def condense_summary(summary):\n",
    "    # Removing headings and numbers\n",
    "    summary = re.sub(r'(\\n### .+\\n)|(\\d+\\.\\s)', '', summary)\n",
    "\n",
    "    # Splitting into sentences\n",
    "    sentences = re.split(r'\\.\\s+', summary)\n",
    "\n",
    "    # Removal of duplicate sentences\n",
    "    seen = set()\n",
    "    unique_sentences = []\n",
    "    for sentence in sentences:\n",
    "        if sentence not in seen:\n",
    "            unique_sentences.append(sentence)\n",
    "            seen.add(sentence)\n",
    "\n",
    "    # Joining sentences into a paragraph\n",
    "    condensed_summary = '. '.join(unique_sentences)\n",
    "\n",
    "    return condensed_summary.strip()\n",
    "\n",
    "num_titles_to_generate = 20  \n",
    "prompts = []\n",
    "for index, data in enumerate(train_dataset):\n",
    "    if index >= num_titles_to_generate:\n",
    "        break  \n",
    "    title = data['title']\n",
    "    prompt = f\"The following title is from a research paper in the fields of Machine Learning (ML), Artificial Intelligence (AI) and related subfields. Please provide a concise summary in an academic style that covers the main points and conclusions for the paper titled '{title}'. Directly start with the summary.\"\n",
    "    prompts.append(prompt)\n",
    "\n",
    "# Using the 'actual_summaries' corresponding to these titles\n",
    "for prompt in prompts:\n",
    "    inputs = tokenizer(prompt, return_tensors=\"pt\")\n",
    "    outputs = model.generate(**inputs, max_new_tokens=400)\n",
    "    generated_text = tokenizer.decode(outputs[0], skip_special_tokens=True)\n",
    "\n",
    "    # Post-processing to remove the echoed prompt\n",
    "    if generated_text.startswith(prompt):\n",
    "        generated_text = generated_text[len(prompt):].strip()\n",
    "\n",
    "    condensed_text = condense_summary(generated_text)\n",
    "    generated_summaries.append(condensed_text)\n",
    "\n",
    "    # Fetch the actual summary from train1_dataset based on the title\n",
    "    actual_summary = title_to_summary_mapping.get(title, \"No matching summary found\")\n",
    "    actual_summaries.append(actual_summary)"
   ]
  },
  {
   "cell_type": "code",
   "execution_count": 70,
   "metadata": {},
   "outputs": [
    {
     "name": "stdout",
     "output_type": "stream",
     "text": [
      "Prompt:\n",
      "The following title is from a research paper in the fields of Machine Learning (ML), Artificial Intelligence (AI) and related subfields. Please provide a concise summary in an academic style that covers the main points and conclusions for the paper titled 'automagically encoding adverse drug reactions in meddra'. Directly start with the summary.\n",
      "\n",
      "Generated Summary:\n",
      "Title: Automagically Encoding Adverse Drug Reactions in MedDRA\n",
      "\n",
      "Summary:\n",
      "\n",
      "In this paper, the authors propose a novel approach for automagically encoding adverse drug reactions (ADRs) in the Medical Dictionary for Regulatory Activities (MedDRA). The proposed method leverages the power of natural language processing (NLP) and machine learning (ML) techniques to automatically identify and encode ADRs in clinical trial reports. The authors evaluate the performance of their approach using a dataset of clinical trial reports and demonstrate that their method can accurately identify and encode ADRs with a high degree of precision. The authors also compare their approach with existing manual methods and show that their automated approach is more efficient and effective. The paper concludes by highlighting the potential benefits of using automagic encoding of ADRs in MedDRA, including improved data quality, increased efficiency, and reduced workload for regulatory professionals. Conclusion:\n",
      "\n",
      "The proposed approach has the potential to significantly improve the accuracy and efficiency of ADR encoding in MedDRA. By leveraging NLP and ML techniques, the authors are able to automatically identify and encode ADRs in clinical trial reports, which can lead to improved data quality, increased efficiency, and reduced workload for regulatory professionals. The proposed approach has important implications for the field of drug safety and regulatory affairs, and the authors suggest that it could be used as a valuable tool for regulatory professionals in the future.\n",
      "\n",
      "Actual Summary:\n",
      "in this paper we study the problem of author identification under doubleblind review setting which is to identify potential authors given information of an anonymized paper different from existing approaches that rely heavily on feature engineering we propose to use network embedding approach to address the problem which can automatically represent nodes into lower dimensional feature vectors however there are two major limitations in recent studies on network embedding 1 they are usually generalpurpose embedding methods which are independent of the specific tasks and 2 most of these approaches can only deal with homogeneous networks where the heterogeneity of the network is ignored hence challenges faced here are two folds 1 how to embed the network under the guidance of the author identification task and 2 how to select the best type of information due to the heterogeneity of the network to address the challenges we propose a taskguided and pathaugmented heterogeneous network embedding model in our model nodes are first embedded as vectors in latent feature space embeddings are then shared and jointly trained according to taskspecific and networkgeneral objectives we extend the existing unsupervised network embedding to incorporate meta paths in heterogeneous networks and select paths according to the specific task the guidance from author identification task for network embedding is provided both explicitly in joint training and implicitly during meta path selection our experiments demonstrate that by using pathaugmented network embedding with task guidance our model can obtain significantly better accuracy at identifying the true authors comparing to existing methods\n",
      "\n"
     ]
    }
   ],
   "source": [
    "specific_index = 0  # Lets test and view results for one title at a time\n",
    "if specific_index < len(prompts):\n",
    "    print(f\"Prompt:\\n{prompts[specific_index]}\\n\")\n",
    "    print(f\"Generated Summary:\\n{generated_summaries[specific_index]}\\n\")\n",
    "    print(f\"Actual Summary:\\n{actual_summaries[specific_index]}\\n\")\n",
    "else:\n",
    "    print(f\"No data available for index {specific_index}\")\n"
   ]
  },
  {
   "cell_type": "code",
   "execution_count": 71,
   "metadata": {},
   "outputs": [
    {
     "data": {
      "image/png": "[encoded data removed]",
      "text/plain": [
       "<Figure size 1200x600 with 1 Axes>"
      ]
     },
     "metadata": {},
     "output_type": "display_data"
    },
    {
     "name": "stdout",
     "output_type": "stream",
     "text": [
      "Average BLEU Score: 0.0179\n",
      "Average ROUGE-1 F1 Score: 0.2051\n",
      "Average ROUGE-2 F1 Score: 0.0232\n",
      "Average ROUGE-L F1 Score: 0.1584\n"
     ]
    }
   ],
   "source": [
    "from nltk.translate.bleu_score import sentence_bleu, SmoothingFunction\n",
    "from rouge import Rouge\n",
    "import numpy as np\n",
    "import matplotlib.pyplot as plt\n",
    "\n",
    "def calculate_bleu_scores(actual_summaries, generated_summaries):\n",
    "    # Calculating BLEU scores for each summary pair\n",
    "    smoothie = SmoothingFunction().method2\n",
    "    bleu_scores = [sentence_bleu([actual.split()], generated.split(), smoothing_function=smoothie) for actual, generated in zip(actual_summaries, generated_summaries)]\n",
    "    return bleu_scores\n",
    "\n",
    "def calculate_rouge_scores(actual_summaries, generated_summaries):\n",
    "    rouge = Rouge()\n",
    "    rouge_scores = rouge.get_scores(generated_summaries, actual_summaries, avg=True)\n",
    "    return rouge_scores\n",
    "\n",
    "bleu_scores = calculate_bleu_scores(actual_summaries, generated_summaries)\n",
    "avg_bleu_score = np.mean(bleu_scores)\n",
    "rouge_scores = calculate_rouge_scores(actual_summaries, generated_summaries)\n",
    "\n",
    "# Extracting average F1 scores for each ROUGE metric\n",
    "rouge_1_f1 = rouge_scores['rouge-1']['f']\n",
    "rouge_2_f1 = rouge_scores['rouge-2']['f']\n",
    "rouge_l_f1 = rouge_scores['rouge-l']['f']\n",
    "\n",
    "# Plotting\n",
    "plt.figure(figsize=(12, 6))\n",
    "metrics = ['BLEU', 'ROUGE-1', 'ROUGE-2', 'ROUGE-L']\n",
    "scores = [avg_bleu_score, rouge_1_f1, rouge_2_f1, rouge_l_f1]\n",
    "\n",
    "plt.bar(metrics, scores, color=['cyan', 'blue', 'green', 'red'])\n",
    "plt.title('Average BLEU and ROUGE Scores')\n",
    "plt.ylabel('Score')\n",
    "plt.ylim(0, 1) \n",
    "plt.show()\n",
    "\n",
    "# Printing BLEU and ROUGE scores\n",
    "print(f\"Average BLEU Score: {avg_bleu_score:.4f}\")\n",
    "print(f\"Average ROUGE-1 F1 Score: {rouge_1_f1:.4f}\")\n",
    "print(f\"Average ROUGE-2 F1 Score: {rouge_2_f1:.4f}\")\n",
    "print(f\"Average ROUGE-L F1 Score: {rouge_l_f1:.4f}\")\n"
   ]
  }
 ],
 "metadata": {
  "kernelspec": {
   "display_name": "newpeft",
   "language": "python",
   "name": "python3"
  },
  "language_info": {
   "codemirror_mode": {
    "name": "ipython",
    "version": 3
   },
   "file_extension": ".py",
   "mimetype": "text/x-python",
   "name": "python",
   "nbconvert_exporter": "python",
   "pygments_lexer": "ipython3",
   "version": "3.9.18"
  }
 },
 "nbformat": 4,
 "nbformat_minor": 2
}

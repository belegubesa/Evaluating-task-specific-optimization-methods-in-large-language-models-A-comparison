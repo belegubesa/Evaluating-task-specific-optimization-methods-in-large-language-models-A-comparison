{
 "cells": [
  {
   "cell_type": "code",
   "execution_count": 1,
   "metadata": {},
   "outputs": [
    {
     "name": "stderr",
     "output_type": "stream",
     "text": [
      "/root/NewEnvPy39/lib/python3.9/site-packages/tqdm/auto.py:21: TqdmWarning: IProgress not found. Please update jupyter and ipywidgets. See https://ipywidgets.readthedocs.io/en/stable/user_install.html\n",
      "  from .autonotebook import tqdm as notebook_tqdm\n"
     ]
    }
   ],
   "source": [
    "import torch\n",
    "from datasets import load_dataset\n",
    "from transformers import (\n",
    "    AutoModelForCausalLM,\n",
    "    AutoTokenizer,\n",
    "    BitsAndBytesConfig,\n",
    "    TrainingArguments,\n",
    "    pipeline\n",
    ")"
   ]
  },
  {
   "cell_type": "code",
   "execution_count": 2,
   "metadata": {},
   "outputs": [],
   "source": [
    "\n",
    "import pandas as pd\n",
    "df = pd.read_json('/root/llama/datasets/preprocessed_dataset.json')"
   ]
  },
  {
   "cell_type": "code",
   "execution_count": 3,
   "metadata": {},
   "outputs": [],
   "source": [
    "from datasets import Dataset\n",
    "\n",
    "# Convert the pandas DataFrame to a Hugging Face Dataset\n",
    "hf_dataset = Dataset.from_pandas(df)"
   ]
  },
  {
   "cell_type": "code",
   "execution_count": 5,
   "metadata": {},
   "outputs": [
    {
     "name": "stderr",
     "output_type": "stream",
     "text": [
      "Map:   0%|          | 0/41000 [00:00<?, ? examples/s]"
     ]
    },
    {
     "name": "stderr",
     "output_type": "stream",
     "text": [
      "Map: 100%|██████████| 41000/41000 [00:04<00:00, 9142.25 examples/s] "
     ]
    },
    {
     "name": "stdout",
     "output_type": "stream",
     "text": [
      "{'title': ['dual recurrent attention units for visual question answering', 'sequential shorttext classification with recurrent and convolutional   neural networks'], 'summary': ['we propose an architecture for vqa which utilizes recurrent layers to generate visual and textual attention the memory characteristic of the proposed recurrent attention units offers a rich joint embedding of visual and textual features and enables the model to reason relations between several parts of the image and question our single model outperforms the first place winner on the vqa 10 dataset performs within margin to the current stateoftheart ensemble model we also experiment with replacing attention mechanisms in other stateoftheart models with our implementation and show increased accuracy in both cases our recurrent attention mechanism improves performance in tasks requiring sequential or relational reasoning on the vqa dataset', 'recent approaches based on artificial neural networks anns have shown promising results for shorttext classification however many short texts occur in sequences eg sentences in a document or utterances in a dialog and most existing annbased systems do not leverage the preceding short texts when classifying a subsequent one in this work we present a model based on recurrent neural networks and convolutional neural networks that incorporates the preceding short texts our model achieves stateoftheart results on three different datasets for dialog act prediction'], '__index_level_0__': [0, 1]}\n"
     ]
    },
    {
     "name": "stderr",
     "output_type": "stream",
     "text": [
      "\n"
     ]
    }
   ],
   "source": [
    "hf_dataset\n",
    "from datasets import load_dataset\n",
    "\n",
    "# Step 1: Define a cleaning function\n",
    "def clean_text(example):\n",
    "    # Replace newline characters with space\n",
    "    example['title'] = example['title'].replace('\\n', ' ')\n",
    "    example['summary'] = example['summary'].replace('\\n', ' ')\n",
    "    # Replace apostrophes with empty string\n",
    "    example['title'] = example['title'].replace('\\'', '')\n",
    "    example['summary'] = example['summary'].replace('\\'', '')\n",
    "\n",
    "    # Add more cleaning steps as needed\n",
    "    return example\n",
    "\n",
    "# Step 3: Apply the cleaning function\n",
    "cleaned_dataset = hf_dataset.map(clean_text)\n",
    "\n",
    "# Step 4: Inspect a few records to ensure cleaning is done\n",
    "print(cleaned_dataset[0:2])\n",
    "\n",
    "# Save the cleaned dataset if needed\n",
    "#cleaned_dataset.save_to_disk('/path/to/save/dataset')\n"
   ]
  },
  {
   "cell_type": "code",
   "execution_count": 6,
   "metadata": {},
   "outputs": [
    {
     "name": "stdout",
     "output_type": "stream",
     "text": [
      "{'title': 'dual recurrent attention units for visual question answering', 'summary': 'we propose an architecture for vqa which utilizes recurrent layers to generate visual and textual attention the memory characteristic of the proposed recurrent attention units offers a rich joint embedding of visual and textual features and enables the model to reason relations between several parts of the image and question our single model outperforms the first place winner on the vqa 10 dataset performs within margin to the current stateoftheart ensemble model we also experiment with replacing attention mechanisms in other stateoftheart models with our implementation and show increased accuracy in both cases our recurrent attention mechanism improves performance in tasks requiring sequential or relational reasoning on the vqa dataset', '__index_level_0__': 0}\n"
     ]
    }
   ],
   "source": [
    "print(cleaned_dataset[0])  # Print the first entry to check its structure\n"
   ]
  },
  {
   "cell_type": "code",
   "execution_count": 7,
   "metadata": {},
   "outputs": [
    {
     "name": "stderr",
     "output_type": "stream",
     "text": [
      "Loading checkpoint shards: 100%|██████████| 3/3 [00:52<00:00, 17.48s/it]\n"
     ]
    }
   ],
   "source": [
    "import torch\n",
    "from transformers import AutoTokenizer, AutoModelForCausalLM, BitsAndBytesConfig\n",
    "\n",
    "base_model_id = \"mistralai/Mistral-7B-Instruct-v0.2\"\n",
    "bnb_config = BitsAndBytesConfig(\n",
    "    load_in_4bit=True,\n",
    "    bnb_4bit_use_double_quant=True,\n",
    "    bnb_4bit_quant_type=\"nf4\",\n",
    "    bnb_4bit_compute_dtype=torch.bfloat16\n",
    ")\n",
    "\n",
    "model = AutoModelForCausalLM.from_pretrained(base_model_id, quantization_config=bnb_config)"
   ]
  },
  {
   "cell_type": "code",
   "execution_count": 13,
   "metadata": {},
   "outputs": [],
   "source": [
    "tokenizer = AutoTokenizer.from_pretrained(base_model_id, trust_remote_code=True)\n",
    "tokenizer.pad_token = tokenizer.eos_token\n",
    "tokenizer.padding_side = \"right\""
   ]
  },
  {
   "cell_type": "code",
   "execution_count": 28,
   "metadata": {},
   "outputs": [],
   "source": [
    "\n",
    "#zero shot learning\n",
    "#prompts = [\n",
    "#    f\"The following is a research paper in the fields of Machine Learning, Artificial Intelligence and other related subfields. Please provide a concise summary that covers its main points and conclusions for the paper titled \\\"{cleaned_dataset[i]['title']}\\\".\"\n",
    "#    for i in range(50)\n",
    "#]\n",
    "\n",
    "#few shot learning\n",
    "#prompts = [\n",
    "#    f'Given a research paper title, provide a detailed summary that covers the main objectives, methods, findings, and conclusions.\\n'\n",
    "#    f'For example:\\n'\n",
    "#    f'For the title \"Dual Recurrent Attention Units for Visual Question Answering\", '\n",
    "#    f'the summary introduces an innovative architecture with dual recurrent attention units, discussing its mechanisms for enhancing visual and textual analysis and its general performance improvements.\\n\\n'\n",
    "#    f'Now, provide a summary for: \"{cleaned_dataset[i][\"title\"]}\"'\n",
    "#    for i in range(1, min(51, len(cleaned_dataset)))\n",
    "#]\n",
    "\n",
    "# chain-of-thoughts\n",
    "prompts = [\n",
    "    f'Given a research paper title, \"{cleaned_dataset[i][\"title\"]}\", provide a detailed summary:\\n'\n",
    "    f'1. Identify the main objectives of the research.\\n'\n",
    "    f'2. Describe the methods used to achieve these objectives.\\n'\n",
    "    f'3. Summarize the key findings and conclusions.\\n'\n",
    "    f'Your summary should be a single, cohesive paragraph without section breaks, where objectives, methods, and conclusions are not stated obviously but explained naturally.'\n",
    "    for i in range(0, min(50, len(cleaned_dataset)))\n",
    "]"
   ]
  },
  {
   "cell_type": "code",
   "execution_count": 29,
   "metadata": {},
   "outputs": [
    {
     "name": "stderr",
     "output_type": "stream",
     "text": [
      "The attention mask and the pad token id were not set. As a consequence, you may observe unexpected behavior. Please pass your input's `attention_mask` to obtain reliable results.\n",
      "Setting `pad_token_id` to `eos_token_id`:2 for open-end generation.\n",
      "The attention mask and the pad token id were not set. As a consequence, you may observe unexpected behavior. Please pass your input's `attention_mask` to obtain reliable results.\n",
      "Setting `pad_token_id` to `eos_token_id`:2 for open-end generation.\n",
      "The attention mask and the pad token id were not set. As a consequence, you may observe unexpected behavior. Please pass your input's `attention_mask` to obtain reliable results.\n",
      "Setting `pad_token_id` to `eos_token_id`:2 for open-end generation.\n",
      "The attention mask and the pad token id were not set. As a consequence, you may observe unexpected behavior. Please pass your input's `attention_mask` to obtain reliable results.\n",
      "Setting `pad_token_id` to `eos_token_id`:2 for open-end generation.\n",
      "The attention mask and the pad token id were not set. As a consequence, you may observe unexpected behavior. Please pass your input's `attention_mask` to obtain reliable results.\n",
      "Setting `pad_token_id` to `eos_token_id`:2 for open-end generation.\n",
      "The attention mask and the pad token id were not set. As a consequence, you may observe unexpected behavior. Please pass your input's `attention_mask` to obtain reliable results.\n",
      "Setting `pad_token_id` to `eos_token_id`:2 for open-end generation.\n",
      "The attention mask and the pad token id were not set. As a consequence, you may observe unexpected behavior. Please pass your input's `attention_mask` to obtain reliable results.\n",
      "Setting `pad_token_id` to `eos_token_id`:2 for open-end generation.\n",
      "The attention mask and the pad token id were not set. As a consequence, you may observe unexpected behavior. Please pass your input's `attention_mask` to obtain reliable results.\n",
      "Setting `pad_token_id` to `eos_token_id`:2 for open-end generation.\n",
      "The attention mask and the pad token id were not set. As a consequence, you may observe unexpected behavior. Please pass your input's `attention_mask` to obtain reliable results.\n",
      "Setting `pad_token_id` to `eos_token_id`:2 for open-end generation.\n",
      "The attention mask and the pad token id were not set. As a consequence, you may observe unexpected behavior. Please pass your input's `attention_mask` to obtain reliable results.\n",
      "Setting `pad_token_id` to `eos_token_id`:2 for open-end generation.\n",
      "The attention mask and the pad token id were not set. As a consequence, you may observe unexpected behavior. Please pass your input's `attention_mask` to obtain reliable results.\n",
      "Setting `pad_token_id` to `eos_token_id`:2 for open-end generation.\n",
      "The attention mask and the pad token id were not set. As a consequence, you may observe unexpected behavior. Please pass your input's `attention_mask` to obtain reliable results.\n",
      "Setting `pad_token_id` to `eos_token_id`:2 for open-end generation.\n",
      "The attention mask and the pad token id were not set. As a consequence, you may observe unexpected behavior. Please pass your input's `attention_mask` to obtain reliable results.\n",
      "Setting `pad_token_id` to `eos_token_id`:2 for open-end generation.\n",
      "The attention mask and the pad token id were not set. As a consequence, you may observe unexpected behavior. Please pass your input's `attention_mask` to obtain reliable results.\n",
      "Setting `pad_token_id` to `eos_token_id`:2 for open-end generation.\n",
      "The attention mask and the pad token id were not set. As a consequence, you may observe unexpected behavior. Please pass your input's `attention_mask` to obtain reliable results.\n",
      "Setting `pad_token_id` to `eos_token_id`:2 for open-end generation.\n",
      "The attention mask and the pad token id were not set. As a consequence, you may observe unexpected behavior. Please pass your input's `attention_mask` to obtain reliable results.\n",
      "Setting `pad_token_id` to `eos_token_id`:2 for open-end generation.\n",
      "The attention mask and the pad token id were not set. As a consequence, you may observe unexpected behavior. Please pass your input's `attention_mask` to obtain reliable results.\n",
      "Setting `pad_token_id` to `eos_token_id`:2 for open-end generation.\n",
      "The attention mask and the pad token id were not set. As a consequence, you may observe unexpected behavior. Please pass your input's `attention_mask` to obtain reliable results.\n",
      "Setting `pad_token_id` to `eos_token_id`:2 for open-end generation.\n",
      "The attention mask and the pad token id were not set. As a consequence, you may observe unexpected behavior. Please pass your input's `attention_mask` to obtain reliable results.\n",
      "Setting `pad_token_id` to `eos_token_id`:2 for open-end generation.\n",
      "The attention mask and the pad token id were not set. As a consequence, you may observe unexpected behavior. Please pass your input's `attention_mask` to obtain reliable results.\n",
      "Setting `pad_token_id` to `eos_token_id`:2 for open-end generation.\n",
      "The attention mask and the pad token id were not set. As a consequence, you may observe unexpected behavior. Please pass your input's `attention_mask` to obtain reliable results.\n",
      "Setting `pad_token_id` to `eos_token_id`:2 for open-end generation.\n",
      "The attention mask and the pad token id were not set. As a consequence, you may observe unexpected behavior. Please pass your input's `attention_mask` to obtain reliable results.\n",
      "Setting `pad_token_id` to `eos_token_id`:2 for open-end generation.\n",
      "The attention mask and the pad token id were not set. As a consequence, you may observe unexpected behavior. Please pass your input's `attention_mask` to obtain reliable results.\n",
      "Setting `pad_token_id` to `eos_token_id`:2 for open-end generation.\n",
      "The attention mask and the pad token id were not set. As a consequence, you may observe unexpected behavior. Please pass your input's `attention_mask` to obtain reliable results.\n",
      "Setting `pad_token_id` to `eos_token_id`:2 for open-end generation.\n",
      "The attention mask and the pad token id were not set. As a consequence, you may observe unexpected behavior. Please pass your input's `attention_mask` to obtain reliable results.\n",
      "Setting `pad_token_id` to `eos_token_id`:2 for open-end generation.\n",
      "The attention mask and the pad token id were not set. As a consequence, you may observe unexpected behavior. Please pass your input's `attention_mask` to obtain reliable results.\n",
      "Setting `pad_token_id` to `eos_token_id`:2 for open-end generation.\n",
      "The attention mask and the pad token id were not set. As a consequence, you may observe unexpected behavior. Please pass your input's `attention_mask` to obtain reliable results.\n",
      "Setting `pad_token_id` to `eos_token_id`:2 for open-end generation.\n",
      "The attention mask and the pad token id were not set. As a consequence, you may observe unexpected behavior. Please pass your input's `attention_mask` to obtain reliable results.\n",
      "Setting `pad_token_id` to `eos_token_id`:2 for open-end generation.\n",
      "The attention mask and the pad token id were not set. As a consequence, you may observe unexpected behavior. Please pass your input's `attention_mask` to obtain reliable results.\n",
      "Setting `pad_token_id` to `eos_token_id`:2 for open-end generation.\n",
      "The attention mask and the pad token id were not set. As a consequence, you may observe unexpected behavior. Please pass your input's `attention_mask` to obtain reliable results.\n",
      "Setting `pad_token_id` to `eos_token_id`:2 for open-end generation.\n",
      "The attention mask and the pad token id were not set. As a consequence, you may observe unexpected behavior. Please pass your input's `attention_mask` to obtain reliable results.\n",
      "Setting `pad_token_id` to `eos_token_id`:2 for open-end generation.\n",
      "The attention mask and the pad token id were not set. As a consequence, you may observe unexpected behavior. Please pass your input's `attention_mask` to obtain reliable results.\n",
      "Setting `pad_token_id` to `eos_token_id`:2 for open-end generation.\n",
      "The attention mask and the pad token id were not set. As a consequence, you may observe unexpected behavior. Please pass your input's `attention_mask` to obtain reliable results.\n",
      "Setting `pad_token_id` to `eos_token_id`:2 for open-end generation.\n",
      "The attention mask and the pad token id were not set. As a consequence, you may observe unexpected behavior. Please pass your input's `attention_mask` to obtain reliable results.\n",
      "Setting `pad_token_id` to `eos_token_id`:2 for open-end generation.\n",
      "The attention mask and the pad token id were not set. As a consequence, you may observe unexpected behavior. Please pass your input's `attention_mask` to obtain reliable results.\n",
      "Setting `pad_token_id` to `eos_token_id`:2 for open-end generation.\n",
      "The attention mask and the pad token id were not set. As a consequence, you may observe unexpected behavior. Please pass your input's `attention_mask` to obtain reliable results.\n",
      "Setting `pad_token_id` to `eos_token_id`:2 for open-end generation.\n",
      "The attention mask and the pad token id were not set. As a consequence, you may observe unexpected behavior. Please pass your input's `attention_mask` to obtain reliable results.\n",
      "Setting `pad_token_id` to `eos_token_id`:2 for open-end generation.\n",
      "The attention mask and the pad token id were not set. As a consequence, you may observe unexpected behavior. Please pass your input's `attention_mask` to obtain reliable results.\n",
      "Setting `pad_token_id` to `eos_token_id`:2 for open-end generation.\n",
      "The attention mask and the pad token id were not set. As a consequence, you may observe unexpected behavior. Please pass your input's `attention_mask` to obtain reliable results.\n",
      "Setting `pad_token_id` to `eos_token_id`:2 for open-end generation.\n",
      "The attention mask and the pad token id were not set. As a consequence, you may observe unexpected behavior. Please pass your input's `attention_mask` to obtain reliable results.\n",
      "Setting `pad_token_id` to `eos_token_id`:2 for open-end generation.\n",
      "The attention mask and the pad token id were not set. As a consequence, you may observe unexpected behavior. Please pass your input's `attention_mask` to obtain reliable results.\n",
      "Setting `pad_token_id` to `eos_token_id`:2 for open-end generation.\n",
      "The attention mask and the pad token id were not set. As a consequence, you may observe unexpected behavior. Please pass your input's `attention_mask` to obtain reliable results.\n",
      "Setting `pad_token_id` to `eos_token_id`:2 for open-end generation.\n",
      "The attention mask and the pad token id were not set. As a consequence, you may observe unexpected behavior. Please pass your input's `attention_mask` to obtain reliable results.\n",
      "Setting `pad_token_id` to `eos_token_id`:2 for open-end generation.\n",
      "The attention mask and the pad token id were not set. As a consequence, you may observe unexpected behavior. Please pass your input's `attention_mask` to obtain reliable results.\n",
      "Setting `pad_token_id` to `eos_token_id`:2 for open-end generation.\n",
      "The attention mask and the pad token id were not set. As a consequence, you may observe unexpected behavior. Please pass your input's `attention_mask` to obtain reliable results.\n",
      "Setting `pad_token_id` to `eos_token_id`:2 for open-end generation.\n",
      "The attention mask and the pad token id were not set. As a consequence, you may observe unexpected behavior. Please pass your input's `attention_mask` to obtain reliable results.\n",
      "Setting `pad_token_id` to `eos_token_id`:2 for open-end generation.\n",
      "The attention mask and the pad token id were not set. As a consequence, you may observe unexpected behavior. Please pass your input's `attention_mask` to obtain reliable results.\n",
      "Setting `pad_token_id` to `eos_token_id`:2 for open-end generation.\n",
      "The attention mask and the pad token id were not set. As a consequence, you may observe unexpected behavior. Please pass your input's `attention_mask` to obtain reliable results.\n",
      "Setting `pad_token_id` to `eos_token_id`:2 for open-end generation.\n",
      "The attention mask and the pad token id were not set. As a consequence, you may observe unexpected behavior. Please pass your input's `attention_mask` to obtain reliable results.\n",
      "Setting `pad_token_id` to `eos_token_id`:2 for open-end generation.\n",
      "The attention mask and the pad token id were not set. As a consequence, you may observe unexpected behavior. Please pass your input's `attention_mask` to obtain reliable results.\n",
      "Setting `pad_token_id` to `eos_token_id`:2 for open-end generation.\n"
     ]
    }
   ],
   "source": [
    "#postprocessing and cleaning the summary for more accurate evaluation\n",
    "import re\n",
    "def condense_summary(summary):\n",
    "    # Remove headings and numbers\n",
    "    summary = re.sub(r'(\\n### .+\\n)|(\\d+\\.\\s)', '', summary)\n",
    "\n",
    "    # Split into sentences\n",
    "    sentences = re.split(r'\\.\\s+', summary)\n",
    "\n",
    "    # Remove duplicate sentences\n",
    "    seen = set()\n",
    "    unique_sentences = []\n",
    "    for sentence in sentences:\n",
    "        if sentence not in seen:\n",
    "            unique_sentences.append(sentence)\n",
    "            seen.add(sentence)\n",
    "\n",
    "    # Join sentences into a paragraph\n",
    "    condensed_summary = '. '.join(unique_sentences)\n",
    "\n",
    "    return condensed_summary.strip()\n",
    "\n",
    "model_outputs = []\n",
    "for prompt in prompts:\n",
    "    input_ids = tokenizer.encode(prompt, return_tensors='pt').to(device)\n",
    "    output_ids = model.generate(input_ids, max_length=250, temperature=0.4, top_p=0.6)\n",
    "    generated_text = tokenizer.decode(output_ids[0], skip_special_tokens=True)\n",
    "\n",
    "    # Post-processing to remove the echoed prompt\n",
    "    if generated_text.startswith(prompt):\n",
    "        generated_text = generated_text[len(prompt):].strip()\n",
    "\n",
    "    # Condense the generated text\n",
    "    condensed_text = condense_summary(generated_text)\n",
    "\n",
    "    model_outputs.append(condensed_text)"
   ]
  },
  {
   "cell_type": "code",
   "execution_count": 30,
   "metadata": {},
   "outputs": [],
   "source": [
    "#extract generated plus actual summaries\n",
    "generated_summaries = model_outputs\n",
    "actual_summaries = [cleaned_dataset[i]['summary'] for i in range(50)]"
   ]
  },
  {
   "cell_type": "code",
   "execution_count": 31,
   "metadata": {},
   "outputs": [
    {
     "name": "stdout",
     "output_type": "stream",
     "text": [
      "Prompt:\n",
      "Given a research paper title, \"dual recurrent attention units for visual question answering\", provide a detailed summary:\n",
      "1. Identify the main objectives of the research.\n",
      "2. Describe the methods used to achieve these objectives.\n",
      "3. Summarize the key findings and conclusions.\n",
      "Your summary should be a single, cohesive paragraph without section breaks, where objectives, methods, and conclusions are not stated obviously but explained naturally.\n",
      "\n",
      "Generated Summary:\n",
      "This paper proposes a novel approach to visual question answering (VQA) using dual recurrent attention units. The primary objective is to improve the performance of VQA models by allowing them to selectively focus on relevant visual and textual features. To achieve this, the authors introduce a dual attention mechanism that consists of a visual attention module and a textual attention module. These attention modules are implemented using recurrent neural networks (RNNs) and are applied in parallel to the input visual and textual representations. The visual attention module attends to the spatial relationships within the image, while the textual attention module focuses on the semantic relationships within the question. The authors also propose a multi-modal fusion strategy to combine the attended visual and textual features. Experimental\n",
      "\n",
      "Actual Summary:\n",
      "we propose an architecture for vqa which utilizes recurrent layers to generate visual and textual attention the memory characteristic of the proposed recurrent attention units offers a rich joint embedding of visual and textual features and enables the model to reason relations between several parts of the image and question our single model outperforms the first place winner on the vqa 10 dataset performs within margin to the current stateoftheart ensemble model we also experiment with replacing attention mechanisms in other stateoftheart models with our implementation and show increased accuracy in both cases our recurrent attention mechanism improves performance in tasks requiring sequential or relational reasoning on the vqa dataset\n",
      "\n",
      "---------------------------------------------------\n",
      "\n",
      "Prompt:\n",
      "Given a research paper title, \"sequential shorttext classification with recurrent and convolutional   neural networks\", provide a detailed summary:\n",
      "1. Identify the main objectives of the research.\n",
      "2. Describe the methods used to achieve these objectives.\n",
      "3. Summarize the key findings and conclusions.\n",
      "Your summary should be a single, cohesive paragraph without section breaks, where objectives, methods, and conclusions are not stated obviously but explained naturally.\n",
      "\n",
      "Generated Summary:\n",
      "This paper proposes a sequential shorttext classification model that combines the strengths of recurrent and convolutional neural networks (RNNs and CNNs) to improve text classification performance. The authors address the challenge of modeling sequential data, where the order of words matters, using a bidirectional LSTM-CNN architecture. The LSTM component captures the long-term dependencies between words, while the CNN layer extracts local features from the input text. The model is trained using a large-scale dataset and achieves state-of-the-art results on several benchmark datasets. The experiments demonstrate that the proposed model outperforms traditional RNN and CNN models, as well as other advanced models, in handling sequential text\n",
      "\n",
      "Actual Summary:\n",
      "recent approaches based on artificial neural networks anns have shown promising results for shorttext classification however many short texts occur in sequences eg sentences in a document or utterances in a dialog and most existing annbased systems do not leverage the preceding short texts when classifying a subsequent one in this work we present a model based on recurrent neural networks and convolutional neural networks that incorporates the preceding short texts our model achieves stateoftheart results on three different datasets for dialog act prediction\n",
      "\n",
      "---------------------------------------------------\n",
      "\n"
     ]
    }
   ],
   "source": [
    "# Printing and comparing the first 2 model-generated summaries with the actual summaries\n",
    "for i in range(2):\n",
    "    print(f\"Prompt:\\n{prompts[i]}\\n\")\n",
    "    print(f\"Generated Summary:\\n{generated_summaries[i]}\\n\")\n",
    "    print(f\"Actual Summary:\\n{actual_summaries[i]}\\n\")\n",
    "    print(\"---------------------------------------------------\\n\")"
   ]
  },
  {
   "cell_type": "code",
   "execution_count": 32,
   "metadata": {},
   "outputs": [
    {
     "name": "stdout",
     "output_type": "stream",
     "text": [
      "Prompt:\n",
      "Given a research paper title, \"multiresolution recurrent neural networks an application to dialogue   response generation\", provide a detailed summary:\n",
      "1. Identify the main objectives of the research.\n",
      "2. Describe the methods used to achieve these objectives.\n",
      "3. Summarize the key findings and conclusions.\n",
      "Your summary should be a single, cohesive paragraph without section breaks, where objectives, methods, and conclusions are not stated obviously but explained naturally.\n",
      "\n",
      "Generated Summary:\n",
      "This paper proposes the application of multiresolution recurrent neural networks (MRRNNs) to the task of dialogue response generation. The main objective is to improve the quality and diversity of generated responses by incorporating multiple time scales into the neural network architecture. The authors achieve this by extending traditional recurrent neural networks (RNNs) with multiresolution dilated convolutions, which allow the network to capture information at different time scales. The MRRNN model is trained on a large dataset of conversational data using maximum likelihood estimation and is evaluated on several benchmark datasets. The results demonstrate that the proposed model outperforms traditional RNNs in terms of both response quality and diversity, making it a promising approach for dialogue response generation systems.\n",
      "\n",
      "Actual Summary:\n",
      "we introduce the multiresolution recurrent neural network which extends the sequencetosequence framework to model natural language generation as two parallel discrete stochastic processes a sequence of highlevel coarse tokens and a sequence of natural language tokens there are many ways to estimate or learn the highlevel coarse tokens but we argue that a simple extraction procedure is sufficient to capture a wealth of highlevel discourse semantics such procedure allows training the multiresolution recurrent neural network by maximizing the exact joint loglikelihood over both sequences in contrast to the standard log likelihood objective wrt natural language tokens word perplexity optimizing the joint loglikelihood biases the model towards modeling highlevel abstractions we apply the proposed model to the task of dialogue response generation in two challenging domains the ubuntu technical support domain and twitter conversations on ubuntu the model outperforms competing approaches by a substantial margin achieving stateoftheart results according to both automatic evaluation metrics and a human evaluation study on twitter the model appears to generate more relevant and ontopic responses according to automatic evaluation metrics finally our experiments demonstrate that the proposed model is more adept at overcoming the sparsity of natural language and is better able to capture longterm structure\n",
      "\n",
      "---------------------------------------------------\n",
      "\n"
     ]
    }
   ],
   "source": [
    "# Specify the index you want to focus on\n",
    "index = 2  # Replace 0 with the desired index\n",
    "\n",
    "# Printing and comparing the model-generated summary with the actual summary for the specified index\n",
    "print(f\"Prompt:\\n{prompts[index]}\\n\")\n",
    "print(f\"Generated Summary:\\n{generated_summaries[index]}\\n\")\n",
    "print(f\"Actual Summary:\\n{actual_summaries[index]}\\n\")\n",
    "print(\"---------------------------------------------------\\n\")\n"
   ]
  },
  {
   "cell_type": "code",
   "execution_count": 33,
   "metadata": {},
   "outputs": [
    {
     "data": {
      "image/png": "[encoded data removed]",
      "text/plain": [
       "<Figure size 1200x600 with 1 Axes>"
      ]
     },
     "metadata": {},
     "output_type": "display_data"
    },
    {
     "name": "stdout",
     "output_type": "stream",
     "text": [
      "Average BLEU Score: 0.0345\n",
      "Average ROUGE-1 F1 Score: 0.2610\n",
      "Average ROUGE-2 F1 Score: 0.0509\n",
      "Average ROUGE-L F1 Score: 0.2014\n"
     ]
    }
   ],
   "source": [
    "from nltk.translate.bleu_score import sentence_bleu, SmoothingFunction\n",
    "from rouge import Rouge\n",
    "import numpy as np\n",
    "import matplotlib.pyplot as plt\n",
    "\n",
    "def calculate_bleu_scores(actual_summaries, generated_summaries):\n",
    "    # Calculate BLEU scores for each summary pair\n",
    "    # Ensure the summaries are split into words (tokens)\n",
    "    smoothie = SmoothingFunction().method2\n",
    "    bleu_scores = [sentence_bleu([actual.split()], generated.split(), smoothing_function=smoothie) for actual, generated in zip(actual_summaries, generated_summaries)]\n",
    "    return bleu_scores\n",
    "\n",
    "def calculate_rouge_scores(actual_summaries, generated_summaries):\n",
    "    rouge = Rouge()\n",
    "    rouge_scores = rouge.get_scores(generated_summaries, actual_summaries, avg=True)\n",
    "    return rouge_scores\n",
    "\n",
    "# Ensure that actual_summaries and generated_summaries are lists of strings\n",
    "# Calculate scores\n",
    "bleu_scores = calculate_bleu_scores(actual_summaries, generated_summaries)\n",
    "avg_bleu_score = np.mean(bleu_scores)\n",
    "rouge_scores = calculate_rouge_scores(actual_summaries, generated_summaries)\n",
    "\n",
    "# Extract average F1 scores for each ROUGE metric\n",
    "rouge_1_f1 = rouge_scores['rouge-1']['f']\n",
    "rouge_2_f1 = rouge_scores['rouge-2']['f']\n",
    "rouge_l_f1 = rouge_scores['rouge-l']['f']\n",
    "\n",
    "# Plotting\n",
    "plt.figure(figsize=(12, 6))\n",
    "metrics = ['BLEU', 'ROUGE-1', 'ROUGE-2', 'ROUGE-L']\n",
    "scores = [avg_bleu_score, rouge_1_f1, rouge_2_f1, rouge_l_f1]\n",
    "\n",
    "plt.bar(metrics, scores, color=['cyan', 'blue', 'green', 'red'])\n",
    "plt.title('Average BLEU and ROUGE Scores')\n",
    "plt.ylabel('Score')\n",
    "plt.ylim(0, 1)  # Assuming the scores are normalized between 0 and 1\n",
    "plt.show()\n",
    "\n",
    "# Printing BLEU and ROUGE scores\n",
    "print(f\"Average BLEU Score: {avg_bleu_score:.4f}\")\n",
    "print(f\"Average ROUGE-1 F1 Score: {rouge_1_f1:.4f}\")\n",
    "print(f\"Average ROUGE-2 F1 Score: {rouge_2_f1:.4f}\")\n",
    "print(f\"Average ROUGE-L F1 Score: {rouge_l_f1:.4f}\")\n"
   ]
  }
 ],
 "metadata": {
  "kernelspec": {
   "display_name": "newenv2",
   "language": "python",
   "name": "python3"
  },
  "language_info": {
   "codemirror_mode": {
    "name": "ipython",
    "version": 3
   },
   "file_extension": ".py",
   "mimetype": "text/x-python",
   "name": "python",
   "nbconvert_exporter": "python",
   "pygments_lexer": "ipython3",
   "version": "3.9.18"
  }
 },
 "nbformat": 4,
 "nbformat_minor": 2
}

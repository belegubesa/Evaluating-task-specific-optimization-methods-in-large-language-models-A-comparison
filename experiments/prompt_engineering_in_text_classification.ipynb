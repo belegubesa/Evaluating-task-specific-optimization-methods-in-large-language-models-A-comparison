{
 "cells": [
  {
   "cell_type": "code",
   "execution_count": 1,
   "metadata": {},
   "outputs": [],
   "source": [
    "import torch\n",
    "from datasets import load_dataset\n",
    "from transformers import (\n",
    "    AutoModelForCausalLM,\n",
    "    AutoTokenizer,\n",
    "    BitsAndBytesConfig,\n",
    "    TrainingArguments,\n",
    "    pipeline\n",
    ")"
   ]
  },
  {
   "cell_type": "code",
   "execution_count": 2,
   "metadata": {},
   "outputs": [
    {
     "name": "stdout",
     "output_type": "stream",
     "text": [
      "Label: cardiovascular diseases\n",
      "Text: Catheterization laboratory events and hospital outcome with direct angioplasty for acute myocardial infarction To assess the safety of direct infarct angioplasty without antecedent thrombolytic therapy, catheterization laboratory and hospital events were assessed in consecutively treated patients with infarctions involving the left anterior descending (n = 100 patients), right (n = 100), and circumflex (n = 50) coronary arteries. The groups of patients were similar for age (left anterior descending coronary artery, 59 years; right coronary artery, 58 years; circumflex coronary artery, 62 years), patients with multivessel disease (left anterior descending coronary artery, 55%; right coronary artery, 55%; circumflex coronary artery, 64%), and patients with initial grade 0/1 antegrade flow (left anterior descending coronary artery, 79%; right coronary artery, 84%; circumflex coronary artery, 90%). Cardiogenic shock was present in eight patients with infarction of the left anterior descending coronary artery, four with infarction of the right coronary artery, and four with infarction of the circumflex coronary artery. Major catheterization laboratory events (cardioversion, cardiopulmonary resuscitation, dopamine or intra-aortic balloon pump support for hypotension, and urgent surgery) occurred in 10 patients with infarction of the left anterior descending coronary artery, eight with infarction of the right coronary artery, and four with infarction of the circumflex coronary artery (16 of 16 shock and six of 234 nonshock patients, p less than 0.001). There was one in-laboratory death (shock patient with infarction of the left anterior descending coronary artery).\n",
      "\n",
      "Label: general pathological conditions\n",
      "Text: Renal abscess in children. Three cases of renal abscesses in children are described to illustrate the variable presenting features. An additional 23 pediatric cases, reported over the past ten years, were reviewed for clinical features and therapy. Fever, loin pain, and leukocytosis were common presenting features, but less than half of all abscesses were associated with either an abnormal urinalysis or a positive urine culture. The presenting features were sometimes confused with appendicitis, peritonitis, or a Wilms tumor. An organism was identified in 17 cases--Escherichia coli in 9 children and Staphylococcus aureus in 8 children. The majority of E. coli infections occurred in girls and the majority of S. aureus infections occurred in boys. Reflux was documented in 5 patients, and 2 children had a possible extrarenal source of infection. Antibiotics alone produced a cure in 10 children (38%), but 16 children (62%) required a surgical procedure.\n",
      "\n",
      "Label: digestive system diseases\n",
      "Text: Hyperplastic polyps seen at sigmoidoscopy are markers for additional adenomas seen at colonoscopy. Asymptomatic individuals undergoing screening flexible sigmoidoscopy were prospectively studied. Polyps were found in 185 subjects. The endoscopist recorded an opinion on the polyps' histology based on endoscopic appearance. No polyps were removed at sigmoidoscopy. All subjects with rectosigmoid polyps then underwent colonoscopy and polypectomy. Of them, 99 subjects (54%) had at least one rectosigmoid adenoma, 69 (37%) had only hyperplastic polyps, and 17 (9%) had other findings. The endoscopists' opinion of the histopathology of polyps at sigmoidoscopy was correct for 61% of the lesions. Of subjects with adenomatous rectosigmoid polyps, 29% had additional adenomas at more proximal sites. Proximal adenomas were found in 28% of patients with hyperplastic rectosigmoid polyps. Patients with rectosigmoid hyperplastic polyps had the same risk for additional proximal adenomas as patients with rectosigmoid adenomatous polyps.\n",
      "\n",
      "Label: general pathological conditions\n",
      "Text: Subclavian artery to innominate vein fistula after insertion of a hemodialysis catheter. Insertion of hemodialysis catheters for temporary use is now preferentially performed by percutaneous infraclavicular subclavian vein catheterization. This method involves passage of a stiff dilator and a peel-away sheath over a guide wire, and is usually carried out without fluoroscopy. For the most part this has proved to be a valuable and safe approach. However, a small incidence of major complications occurs, which needs to be emphasized. Sixteen cases of arteriovenous fistulas between the subclavian artery or its branches and the subclavian vein have been reported so far in the literature. To date only one case of subclavian artery to innominate vein fistula has been reported. We report the second case with this complication and suggest possible preventive measures.\n",
      "\n",
      "Label: cardiovascular diseases\n",
      "Text: Effect of local inhibition of gamma-aminobutyric acid uptake in the dorsomedial hypothalamus on extracellular levels of gamma-aminobutyric acid and on stress-induced tachycardia: a study using microdialysis. Previous studies involving local microinjection of drugs that interfere with gamma-aminobutyric acid (GABA)A receptor-mediated synaptic inhibition have led to the suggestion that endogenous GABA suppresses the activity of a sympatho-excitatory mechanism in the dorsomedial hypothalamus in rats. In this study, microdialysis was used to assess and to alter pharmacologically extracellular-levels of GABA within this region while simultaneously monitoring heart rate and blood pressure. In anesthetized rats, local microdialysis for 15 min with 2.5, 10 and 40 mM nipecotic acid, an inhibitor of GABA uptake, caused concentration-related increases in GABA and taurine in the extracellular space, but no significant change in heart rate or arterial pressure. Similar perfusion with 37.5, 75 and 150 mM KCl caused concentration-related increases in GABA as well as aspartate, glutamate, taurine, glycine and alanine. Only modest, variable increases in heart rate and no effect on arterial pressure were observed during the perfusions with high potassium. In conscious rats, unilateral microdialysis of the dorsomedial hypothalamus with 0.5 mM nipecotic acid for 2 to 2.5 hr before stress coupled with contralateral microinjection of muscimol (88 pmol/250 nl) 5 min before stress significantly reduced air stress-induced tachycardia; this reduction in tachycardia was associated with markedly elevated levels of GABA in dialysates collected from the dorsomedial hypothalamus. Neither treatment alone significantly influenced stress-induced increases in heart rate, although perfusion with nipecotic acid alone evoked similar elevations in extracellular GABA. These results suggest that extracellular levels of endogenous GABA in the dorsomedial hypothalamus may regulate the cardiovascular response to stress.\n",
      "\n"
     ]
    }
   ],
   "source": [
    "import json\n",
    "# Path to your updated JSON file\n",
    "updated_json_file_path = '/root/llama/datasets/classification_task_new_labels.json'  \n",
    "\n",
    "# Read the updated JSON file\n",
    "with open(updated_json_file_path, 'r', encoding='utf-8') as file:\n",
    "    updated_data = json.load(file)\n",
    "\n",
    "# Number of entries to display\n",
    "num_entries_to_display = 5\n",
    "\n",
    "# Print the first few entries to check the labels\n",
    "for entry in updated_data[:num_entries_to_display]:\n",
    "    print(f\"Label: {entry['label']}\")\n",
    "    print(f\"Text: {entry['clinical_conditions']}\\n\")"
   ]
  },
  {
   "cell_type": "code",
   "execution_count": 3,
   "metadata": {},
   "outputs": [
    {
     "name": "stdout",
     "output_type": "stream",
     "text": [
      "DatasetDict({\n",
      "    train: Dataset({\n",
      "        features: ['clinical_conditions', 'label'],\n",
      "        num_rows: 14438\n",
      "    })\n",
      "})\n"
     ]
    }
   ],
   "source": [
    "from datasets import load_dataset\n",
    "updated_json_file_path = '/root/llama/datasets/classification_task_new_labels.json'  \n",
    "\n",
    "# Loading the dataset\n",
    "dataset = load_dataset('json', data_files=updated_json_file_path)\n",
    "print(dataset)"
   ]
  },
  {
   "cell_type": "code",
   "execution_count": 4,
   "metadata": {},
   "outputs": [
    {
     "data": {
      "application/vnd.jupyter.widget-view+json": {
       "model_id": "fb848179b38a4ea88f2f81a8bea61e49",
       "version_major": 2,
       "version_minor": 0
      },
      "text/plain": [
       "Loading checkpoint shards:   0%|          | 0/2 [00:00<?, ?it/s]"
      ]
     },
     "metadata": {},
     "output_type": "display_data"
    }
   ],
   "source": [
    "# Model loading\n",
    "base_model_name = \"meta-llama/Llama-2-7b-chat-hf\"\n",
    "model = AutoModelForCausalLM.from_pretrained(base_model_name)\n",
    "\n",
    "# Convert model to use 16-bit floating point precision (half precision)\n",
    "model = model.half()  # This converts all the model weights to float16\n",
    "\n",
    "# Tokenizer\n",
    "llama_tokenizer = AutoTokenizer.from_pretrained(base_model_name, trust_remote_code=True)\n",
    "llama_tokenizer.pad_token = llama_tokenizer.eos_token\n",
    "llama_tokenizer.padding_side = \"right\" "
   ]
  },
  {
   "cell_type": "code",
   "execution_count": 6,
   "metadata": {},
   "outputs": [],
   "source": [
    "#this cell has examples that are not used\n",
    "\n",
    "#prompts = [\n",
    "#    \"Medical Diagnosis Task: You are presented with a clinical description. Your task is to identify the most appropriate medical category for diagnosis from the following options:\",\n",
    "#    \"1. Neoplasms\",\n",
    "#    \"2. Digestive System Diseases\",\n",
    "#    \"3. Nervous System Diseases\",\n",
    "#    \"4. Cardiovascular Diseases\",\n",
    "#    \"5. General Pathological Conditions\",\n",
    "#    \"First, carefully analyze the clinical description to identify main keywords related to medical conditions you can recognize.\",\n",
    "#    \"Next, consider the provided categories and map the correct one based on your knowledge.\",\n",
    "#    \"Your response should only include the diagnosis by clearly stating the category and nothing else.\",\n",
    "#    \"No explanation is needed.\",\n",
    "#    \"Ensure your answer matches one of the provided diagnosis/categories.\",\n",
    "#    \"Clinical Description: '{dataset['train'][i]['clinical_conditions']}'\\nDiagnosis: \"\n",
    "#    for i in range(20)\n",
    "#]\n",
    "\n",
    "#prompts = [\n",
    "#    f\"Medical Diagnosis Task: You are presented with a clinical description. Your task is to identify the most appropriate medical category for diagnosis from the following options:\\n1. Neoplasms\\n2. Digestive System Diseases\\n3. Nervous System Diseases\\n4. Cardiovascular Diseases\\n5. General Pathological Conditions\\n\\nFirst, carefully analyze the clinical description to identify main keywords related to medical conditions you can recognize.\\nNext, consider the provided categories and map the correct one based on your knowledge.\\nYour response should only include the diagnosis by clearly stating the category and nothing else.\\nNo explanation is needed.\\nEnsure your answer matches one of the provided diagnosis/categories.\\nClinical Description: '{dataset['train'][i]['clinical_conditions']}'\\nDiagnosis: \"\n",
    "#    for i in range(20)\n",
    "#]\n"
   ]
  },
  {
   "cell_type": "code",
   "execution_count": 35,
   "metadata": {},
   "outputs": [],
   "source": [
    "#this prompt is used in chain of thoughts\n",
    "prompts = [\n",
    "    f\"Medical Diagnosis Task: You are presented with a clinical description. Your goal is to assign one of the following labels to the description:\\n1. Neoplasms\\n2. Digestive System Diseases\\n3. Nervous System Diseases\\n4. Cardiovascular Diseases\\n5. General Pathological Conditions\\n\\nAnalyze the clinical description and identify keywords or phrases that match one of the labels.\\nMap the keywords to the most appropriate label.\\nYour response should only include the selected label.\\nClinical Description: '{clinical_description}'\\nDiagnosis: \"\n",
    "    for clinical_description in [dataset['train'][i]['clinical_conditions'] for i in range(20)]\n",
    "]\n"
   ]
  },
  {
   "cell_type": "code",
   "execution_count": 45,
   "metadata": {},
   "outputs": [],
   "source": [
    "#this prompt is used in few shot learning\n",
    "#prompts = [\n",
    "#    f\"Medical Diagnosis Task: You are presented with a clinical description. Your goal is to assign one of the following labels to the description:\\n1. Neoplasms\\n2. Digestive System Diseases\\n3. Nervous System Diseases\\n4. Cardiovascular Diseases\\n5. General Pathological Conditions\\n\\nAnalyze the clinical description and identify keywords or phrases that match one of the labels.\\nMap the keywords to the most appropriate label.\\nYour response should only include the selected label.\\nClinical Description: '{clinical_description}'\\nDiagnosis: \"\n",
    "#    for clinical_description in [dataset['train'][i]['clinical_conditions'] for i in range(20)]\n",
    "#]\n",
    "\n",
    "prompts = [\n",
    "    f\"Medical Diagnosis Task: You are presented with a clinical description. Your goal is to assign one of the following labels to the description:\\n\"\n",
    "    \"1. Neoplasms\\n\"\n",
    "    \"2. Digestive System Diseases\\n\"\n",
    "    \"3. Nervous System Diseases\\n\"\n",
    "    \"4. Cardiovascular Diseases\\n\"\n",
    "    \"5. General Pathological Conditions\\n\\n\"\n",
    "    \"Your response should only include the selected label. \\n\"\n",
    "    \"Here are a couple of examples:\\n\"\n",
    "    \"- Example 1: A study investigates catheterization laboratory events and hospital outcomes in patients with acute myocardial infarction. It focuses on direct infarct angioplasty without thrombolytic therapy, highlighting major events and their association with different coronary arteries. The results emphasize the impact of cardiogenic shock on these events. (Correct Label: Cardiovascular Diseases)\\n\"\n",
    "    \"- Example 2: Clinical conditions discuss renal abscesses in children, presenting cases and reviewing additional pediatric cases over the past ten years. It describes common presenting features and challenges in diagnosis. The text also mentions the identification of causative organisms and treatment options. (Correct Label: General Pathological Conditions)\\n\\n\"\n",
    "    f\"Clinical Description: '{clinical_description}'\\nDiagnosis: \"\n",
    "    for clinical_description in [dataset['train'][i]['clinical_conditions'] for i in range(50)]\n",
    "]"
   ]
  },
  {
   "cell_type": "code",
   "execution_count": 8,
   "metadata": {},
   "outputs": [
    {
     "name": "stdout",
     "output_type": "stream",
     "text": [
      "Using device: cuda\n"
     ]
    },
    {
     "data": {
      "text/plain": [
       "LlamaForCausalLM(\n",
       "  (model): LlamaModel(\n",
       "    (embed_tokens): Embedding(32000, 4096, padding_idx=0)\n",
       "    (layers): ModuleList(\n",
       "      (0-31): 32 x LlamaDecoderLayer(\n",
       "        (self_attn): LlamaAttention(\n",
       "          (q_proj): Linear(in_features=4096, out_features=4096, bias=False)\n",
       "          (k_proj): Linear(in_features=4096, out_features=4096, bias=False)\n",
       "          (v_proj): Linear(in_features=4096, out_features=4096, bias=False)\n",
       "          (o_proj): Linear(in_features=4096, out_features=4096, bias=False)\n",
       "          (rotary_emb): LlamaRotaryEmbedding()\n",
       "        )\n",
       "        (mlp): LlamaMLP(\n",
       "          (gate_proj): Linear(in_features=4096, out_features=11008, bias=False)\n",
       "          (up_proj): Linear(in_features=4096, out_features=11008, bias=False)\n",
       "          (down_proj): Linear(in_features=11008, out_features=4096, bias=False)\n",
       "          (act_fn): SiLUActivation()\n",
       "        )\n",
       "        (input_layernorm): LlamaRMSNorm()\n",
       "        (post_attention_layernorm): LlamaRMSNorm()\n",
       "      )\n",
       "    )\n",
       "    (norm): LlamaRMSNorm()\n",
       "  )\n",
       "  (lm_head): Linear(in_features=4096, out_features=32000, bias=False)\n",
       ")"
      ]
     },
     "execution_count": 8,
     "metadata": {},
     "output_type": "execute_result"
    }
   ],
   "source": [
    "import torch\n",
    "\n",
    "# Checking for GPU availability\n",
    "device = torch.device(\"cuda\" if torch.cuda.is_available() else \"cpu\")\n",
    "# Print the device being used\n",
    "print(f\"Using device: {device}\")\n",
    "\n",
    "# Check if the model is wrapped in DataParallel and unwrap it if necessary\n",
    "if isinstance(model, torch.nn.DataParallel):\n",
    "    # Extract the original model from DataParallel wrapper\n",
    "    unwrapped_model = model.module\n",
    "else:\n",
    "    unwrapped_model = model\n",
    "\n",
    "# Move the unwrapped model to the defined device (GPU or CPU)\n",
    "unwrapped_model.to(device)"
   ]
  },
  {
   "cell_type": "code",
   "execution_count": 46,
   "metadata": {},
   "outputs": [
    {
     "name": "stderr",
     "output_type": "stream",
     "text": [
      "Input length of input_ids is 741, but `max_length` is set to 512. This can lead to unexpected behavior. You should consider increasing `max_new_tokens`.\n",
      "Input length of input_ids is 533, but `max_length` is set to 512. This can lead to unexpected behavior. You should consider increasing `max_new_tokens`.\n",
      "Input length of input_ids is 583, but `max_length` is set to 512. This can lead to unexpected behavior. You should consider increasing `max_new_tokens`.\n",
      "Input length of input_ids is 848, but `max_length` is set to 512. This can lead to unexpected behavior. You should consider increasing `max_new_tokens`.\n",
      "Input length of input_ids is 574, but `max_length` is set to 512. This can lead to unexpected behavior. You should consider increasing `max_new_tokens`.\n",
      "Input length of input_ids is 683, but `max_length` is set to 512. This can lead to unexpected behavior. You should consider increasing `max_new_tokens`.\n",
      "Input length of input_ids is 540, but `max_length` is set to 512. This can lead to unexpected behavior. You should consider increasing `max_new_tokens`.\n",
      "Input length of input_ids is 657, but `max_length` is set to 512. This can lead to unexpected behavior. You should consider increasing `max_new_tokens`.\n",
      "Input length of input_ids is 540, but `max_length` is set to 512. This can lead to unexpected behavior. You should consider increasing `max_new_tokens`.\n",
      "Input length of input_ids is 741, but `max_length` is set to 512. This can lead to unexpected behavior. You should consider increasing `max_new_tokens`.\n",
      "Input length of input_ids is 674, but `max_length` is set to 512. This can lead to unexpected behavior. You should consider increasing `max_new_tokens`.\n",
      "Input length of input_ids is 706, but `max_length` is set to 512. This can lead to unexpected behavior. You should consider increasing `max_new_tokens`.\n",
      "Input length of input_ids is 1034, but `max_length` is set to 512. This can lead to unexpected behavior. You should consider increasing `max_new_tokens`.\n",
      "Input length of input_ids is 576, but `max_length` is set to 512. This can lead to unexpected behavior. You should consider increasing `max_new_tokens`.\n",
      "Input length of input_ids is 809, but `max_length` is set to 512. This can lead to unexpected behavior. You should consider increasing `max_new_tokens`.\n",
      "Input length of input_ids is 944, but `max_length` is set to 512. This can lead to unexpected behavior. You should consider increasing `max_new_tokens`.\n",
      "Input length of input_ids is 922, but `max_length` is set to 512. This can lead to unexpected behavior. You should consider increasing `max_new_tokens`.\n",
      "Input length of input_ids is 750, but `max_length` is set to 512. This can lead to unexpected behavior. You should consider increasing `max_new_tokens`.\n",
      "Input length of input_ids is 738, but `max_length` is set to 512. This can lead to unexpected behavior. You should consider increasing `max_new_tokens`.\n",
      "Input length of input_ids is 615, but `max_length` is set to 512. This can lead to unexpected behavior. You should consider increasing `max_new_tokens`.\n",
      "Input length of input_ids is 1150, but `max_length` is set to 512. This can lead to unexpected behavior. You should consider increasing `max_new_tokens`.\n",
      "Input length of input_ids is 823, but `max_length` is set to 512. This can lead to unexpected behavior. You should consider increasing `max_new_tokens`.\n",
      "Input length of input_ids is 602, but `max_length` is set to 512. This can lead to unexpected behavior. You should consider increasing `max_new_tokens`.\n",
      "Input length of input_ids is 693, but `max_length` is set to 512. This can lead to unexpected behavior. You should consider increasing `max_new_tokens`.\n",
      "Input length of input_ids is 692, but `max_length` is set to 512. This can lead to unexpected behavior. You should consider increasing `max_new_tokens`.\n",
      "Input length of input_ids is 630, but `max_length` is set to 512. This can lead to unexpected behavior. You should consider increasing `max_new_tokens`.\n",
      "Input length of input_ids is 745, but `max_length` is set to 512. This can lead to unexpected behavior. You should consider increasing `max_new_tokens`.\n",
      "Input length of input_ids is 826, but `max_length` is set to 512. This can lead to unexpected behavior. You should consider increasing `max_new_tokens`.\n",
      "Input length of input_ids is 740, but `max_length` is set to 512. This can lead to unexpected behavior. You should consider increasing `max_new_tokens`.\n",
      "Input length of input_ids is 847, but `max_length` is set to 512. This can lead to unexpected behavior. You should consider increasing `max_new_tokens`.\n",
      "Input length of input_ids is 813, but `max_length` is set to 512. This can lead to unexpected behavior. You should consider increasing `max_new_tokens`.\n",
      "Input length of input_ids is 826, but `max_length` is set to 512. This can lead to unexpected behavior. You should consider increasing `max_new_tokens`.\n",
      "Input length of input_ids is 757, but `max_length` is set to 512. This can lead to unexpected behavior. You should consider increasing `max_new_tokens`.\n",
      "Input length of input_ids is 845, but `max_length` is set to 512. This can lead to unexpected behavior. You should consider increasing `max_new_tokens`.\n",
      "Input length of input_ids is 611, but `max_length` is set to 512. This can lead to unexpected behavior. You should consider increasing `max_new_tokens`.\n",
      "Input length of input_ids is 565, but `max_length` is set to 512. This can lead to unexpected behavior. You should consider increasing `max_new_tokens`.\n",
      "Input length of input_ids is 858, but `max_length` is set to 512. This can lead to unexpected behavior. You should consider increasing `max_new_tokens`.\n",
      "Input length of input_ids is 558, but `max_length` is set to 512. This can lead to unexpected behavior. You should consider increasing `max_new_tokens`.\n"
     ]
    }
   ],
   "source": [
    "model_outputs = []\n",
    "for prompt in prompts:\n",
    "    input_ids = llama_tokenizer.encode(prompt, return_tensors='pt').to(device)\n",
    "    output_ids = unwrapped_model.generate(input_ids, max_length=512, temperature=0.4, top_p=0.6)\n",
    "    generated_text = llama_tokenizer.decode(output_ids[0], skip_special_tokens=True)\n",
    "\n",
    "    # Post-processing to remove the echoed prompt\n",
    "    if generated_text.startswith(prompt):\n",
    "        generated_text = generated_text[len(prompt):].strip()\n",
    "\n",
    "    # Append the generated text directly\n",
    "    model_outputs.append(generated_text)"
   ]
  },
  {
   "cell_type": "code",
   "execution_count": 47,
   "metadata": {},
   "outputs": [],
   "source": [
    "#extract generated plus actual summaries\n",
    "generated_summaries = model_outputs\n",
    "actual_labels = [dataset['train'][i]['label'] for i in range(50)]"
   ]
  },
  {
   "cell_type": "code",
   "execution_count": 52,
   "metadata": {},
   "outputs": [
    {
     "name": "stdout",
     "output_type": "stream",
     "text": [
      "Prompt:\n",
      "Medical Diagnosis Task: You are presented with a clinical description. Your goal is to assign one of the following labels to the description:\n",
      "1. Neoplasms\n",
      "2. Digestive System Diseases\n",
      "3. Nervous System Diseases\n",
      "4. Cardiovascular Diseases\n",
      "5. General Pathological Conditions\n",
      "\n",
      "Your response should only include the selected label. \n",
      "Here are a couple of examples:\n",
      "- Example 1: A study investigates catheterization laboratory events and hospital outcomes in patients with acute myocardial infarction. It focuses on direct infarct angioplasty without thrombolytic therapy, highlighting major events and their association with different coronary arteries. The results emphasize the impact of cardiogenic shock on these events. (Correct Label: Cardiovascular Diseases)\n",
      "- Example 2: Clinical conditions discuss renal abscesses in children, presenting cases and reviewing additional pediatric cases over the past ten years. It describes common presenting features and challenges in diagnosis. The text also mentions the identification of causative organisms and treatment options. (Correct Label: General Pathological Conditions)\n",
      "\n",
      "Clinical Description: 'Hyperplastic polyps seen at sigmoidoscopy are markers for additional adenomas seen at colonoscopy. Asymptomatic individuals undergoing screening flexible sigmoidoscopy were prospectively studied. Polyps were found in 185 subjects. The endoscopist recorded an opinion on the polyps' histology based on endoscopic appearance. No polyps were removed at sigmoidoscopy. All subjects with rectosigmoid polyps then underwent colonoscopy and polypectomy. Of them, 99 subjects (54%) had at least one rectosigmoid adenoma, 69 (37%) had only hyperplastic polyps, and 17 (9%) had other findings. The endoscopists' opinion of the histopathology of polyps at sigmoidoscopy was correct for 61% of the lesions. Of subjects with adenomatous rectosigmoid polyps, 29% had additional adenomas at more proximal sites. Proximal adenomas were found in 28% of patients with hyperplastic rectosigmoid polyps. Patients with rectosigmoid hyperplastic polyps had the same risk for additional proximal adenomas as patients with rectosigmoid adenomatous polyps.'\n",
      "Diagnosis: \n",
      "\n",
      "Generated Label:\n",
      "5\n",
      "\n",
      "Actual Label:\n",
      "digestive system diseases\n",
      "\n",
      "---------------------------------------------------\n",
      "\n"
     ]
    }
   ],
   "source": [
    "index = 2  \n",
    "\n",
    "print(f\"Prompt:\\n{prompts[index]}\\n\")\n",
    "print(f\"Generated Label:\\n{generated_summaries[index]}\\n\")\n",
    "print(f\"Actual Label:\\n{actual_labels[index]}\\n\")\n",
    "print(\"---------------------------------------------------\\n\")\n"
   ]
  },
  {
   "cell_type": "code",
   "execution_count": 50,
   "metadata": {},
   "outputs": [
    {
     "name": "stdout",
     "output_type": "stream",
     "text": [
      "Accuracy: 0.44\n",
      "Weighted Precision: 0.292972972972973\n",
      "Weighted Recall: 0.44\n",
      "Weighted F1: 0.34620689655172415\n"
     ]
    },
    {
     "name": "stderr",
     "output_type": "stream",
     "text": [
      "/root/newpeft/lib/python3.9/site-packages/sklearn/metrics/_classification.py:1497: UndefinedMetricWarning: Precision is ill-defined and being set to 0.0 in labels with no predicted samples. Use `zero_division` parameter to control this behavior.\n",
      "  _warn_prf(average, modifier, f\"{metric.capitalize()} is\", len(result))\n",
      "/root/newpeft/lib/python3.9/site-packages/sklearn/metrics/_classification.py:1497: UndefinedMetricWarning: Recall is ill-defined and being set to 0.0 in labels with no true samples. Use `zero_division` parameter to control this behavior.\n",
      "  _warn_prf(average, modifier, f\"{metric.capitalize()} is\", len(result))\n"
     ]
    }
   ],
   "source": [
    "from sklearn.metrics import accuracy_score, precision_score, recall_score, f1_score\n",
    "\n",
    "# Define the label mapping\n",
    "label_mapping = {\n",
    "    '1': 'neoplasms',\n",
    "    '2': 'digestive system diseases',\n",
    "    '3': 'nervous system diseases',\n",
    "    '4': 'cardiovascular diseases',\n",
    "    '5': 'general pathological conditions',\n",
    "    'neoplasms': 'neoplasms',\n",
    "    'digestive system diseases': 'digestive system diseases',\n",
    "    'nervous system diseases': 'nervous system diseases',\n",
    "    'cardiovascular diseases': 'cardiovascular diseases',\n",
    "    'general pathological conditions': 'general pathological conditions',\n",
    "    '1. neoplasms': 'neoplasms',\n",
    "    '2. digestive system diseases': 'digestive system diseases',\n",
    "    '3. nervous system diseases': 'nervous system diseases',\n",
    "    '4. cardiovascular diseases': 'cardiovascular diseases',\n",
    "    '5. general pathological conditions': 'general pathological conditions',\n",
    "    '1 - neoplasms': 'neoplasms',\n",
    "    '2 - digestive system diseases': 'digestive system diseases',\n",
    "    '3 - nervous system diseases': 'nervous system diseases',\n",
    "    '4 - cardiovascular diseases': 'cardiovascular diseases',\n",
    "    '5 - general pathological conditions': 'general pathological conditions',\n",
    "    '1: neoplasms': 'neoplasms',\n",
    "    '2: digestive system diseases': 'digestive system diseases',\n",
    "    '3: nervous system diseases': 'nervous system diseases',\n",
    "    '4: cardiovascular diseases': 'cardiovascular diseases',\n",
    "    '5: general pathological conditions': 'general pathological conditions',\n",
    "}\n",
    "\n",
    "# The relevant parts from each generated output are extracted and and mapped to actual labels\n",
    "mapped_labels = []\n",
    "\n",
    "for output in generated_summaries:\n",
    "    matches = re.findall(r'(1|2|3|4|5|[A-Za-z\\s]+|[1-5][.: -]\\s*[A-Za-z\\s]+)', output)\n",
    "    mapped_label = None\n",
    "\n",
    "    for match in matches:\n",
    "        match = match.strip()\n",
    "        if match in label_mapping:\n",
    "            mapped_label = label_mapping[match]\n",
    "            break\n",
    "\n",
    "    if mapped_label:\n",
    "        mapped_labels.append(mapped_label)\n",
    "    else:\n",
    "        mapped_labels.append(\"Unknown\")\n",
    "\n",
    "# Filter out \"Unknown\" responses from the actual_labels\n",
    "filtered_actual_labels = [label for label in actual_labels if label != \"Unknown\"]\n",
    "\n",
    "# Calculate accuracy\n",
    "accuracy = accuracy_score(filtered_actual_labels, mapped_labels)\n",
    "\n",
    "# Calculate precision, recall, and F1-score\n",
    "precision = precision_score(filtered_actual_labels, mapped_labels, average='weighted')\n",
    "recall = recall_score(filtered_actual_labels, mapped_labels, average='weighted')\n",
    "f1 = f1_score(filtered_actual_labels, mapped_labels, average='weighted')\n",
    "\n",
    "# Print or use the calculated metrics as needed\n",
    "print(\"Accuracy:\", accuracy)\n",
    "print(\"Weighted Precision:\", precision)\n",
    "print(\"Weighted Recall:\", recall)\n",
    "print(\"Weighted F1:\", f1)\n"
   ]
  }
 ],
 "metadata": {
  "kernelspec": {
   "display_name": "newpeft",
   "language": "python",
   "name": "python3"
  },
  "language_info": {
   "codemirror_mode": {
    "name": "ipython",
    "version": 3
   },
   "file_extension": ".py",
   "mimetype": "text/x-python",
   "name": "python",
   "nbconvert_exporter": "python",
   "pygments_lexer": "ipython3",
   "version": "3.9.18"
  }
 },
 "nbformat": 4,
 "nbformat_minor": 2
}
